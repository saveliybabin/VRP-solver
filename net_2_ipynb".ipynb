{
  "cells": [
    {
      "cell_type": "code",
      "execution_count": null,
      "metadata": {
        "colab": {
          "base_uri": "https://localhost:8080/"
        },
        "id": "rrxV3xxYLaDF",
        "outputId": "5ec1b31f-2ab9-4650-86f4-c4ac3cb3bd02"
      },
      "outputs": [
        {
          "output_type": "stream",
          "name": "stdout",
          "text": [
            "Cloning into '.'...\n",
            "remote: Enumerating objects: 488, done.\u001b[K\n",
            "remote: Counting objects: 100% (105/105), done.\u001b[K\n",
            "remote: Compressing objects: 100% (102/102), done.\u001b[K\n",
            "remote: Total 488 (delta 61), reused 8 (delta 3), pack-reused 383\u001b[K\n",
            "Receiving objects: 100% (488/488), 6.73 MiB | 9.93 MiB/s, done.\n",
            "Resolving deltas: 100% (253/253), done.\n"
          ]
        }
      ],
      "source": [
        "!rm -r sample_data .config\n",
        "!git clone https://github.com/saveliybabin/VRP-solver ."
      ]
    },
    {
      "cell_type": "code",
      "execution_count": null,
      "metadata": {
        "id": "v4-n723vLZAL"
      },
      "outputs": [],
      "source": [
        "import requests\n",
        "import numpy as np\n",
        "import torch\n",
        "import torch.nn.functional as F\n",
        "import torch.optim as optim\n",
        "import networkx as nx\n",
        "import matplotlib.pyplot as plt\n",
        "from scipy.spatial.distance import pdist, squareform\n",
        "import pandas as pd\n",
        "from train import train_epoch_sl\n",
        "from nets.nar_model_vrp import NARModel\n",
        "from nets.encoders.gnn_encoder import GNNEncoder\n",
        "from utils import torch_load_cpu, load_problem\n",
        "import warnings\n",
        "warnings.filterwarnings('ignore')"
      ]
    },
    {
      "cell_type": "code",
      "execution_count": null,
      "metadata": {
        "colab": {
          "base_uri": "https://localhost:8080/"
        },
        "id": "bJWkBlOrRMP2",
        "outputId": "b2525004-d0a2-4a0d-ead1-e390d7c74921"
      },
      "outputs": [
        {
          "output_type": "stream",
          "name": "stdout",
          "text": [
            "Collecting pickle5\n",
            "  Downloading pickle5-0.0.12-cp37-cp37m-manylinux_2_5_x86_64.manylinux1_x86_64.whl (256 kB)\n",
            "\u001b[?25l\r\u001b[K     |█▎                              | 10 kB 18.2 MB/s eta 0:00:01\r\u001b[K     |██▋                             | 20 kB 10.4 MB/s eta 0:00:01\r\u001b[K     |███▉                            | 30 kB 5.6 MB/s eta 0:00:01\r\u001b[K     |█████▏                          | 40 kB 5.2 MB/s eta 0:00:01\r\u001b[K     |██████▍                         | 51 kB 4.0 MB/s eta 0:00:01\r\u001b[K     |███████▊                        | 61 kB 4.7 MB/s eta 0:00:01\r\u001b[K     |█████████                       | 71 kB 4.7 MB/s eta 0:00:01\r\u001b[K     |██████████▎                     | 81 kB 4.7 MB/s eta 0:00:01\r\u001b[K     |███████████▌                    | 92 kB 5.2 MB/s eta 0:00:01\r\u001b[K     |████████████▉                   | 102 kB 5.0 MB/s eta 0:00:01\r\u001b[K     |██████████████                  | 112 kB 5.0 MB/s eta 0:00:01\r\u001b[K     |███████████████▍                | 122 kB 5.0 MB/s eta 0:00:01\r\u001b[K     |████████████████▋               | 133 kB 5.0 MB/s eta 0:00:01\r\u001b[K     |██████████████████              | 143 kB 5.0 MB/s eta 0:00:01\r\u001b[K     |███████████████████▏            | 153 kB 5.0 MB/s eta 0:00:01\r\u001b[K     |████████████████████▌           | 163 kB 5.0 MB/s eta 0:00:01\r\u001b[K     |█████████████████████▊          | 174 kB 5.0 MB/s eta 0:00:01\r\u001b[K     |███████████████████████         | 184 kB 5.0 MB/s eta 0:00:01\r\u001b[K     |████████████████████████▎       | 194 kB 5.0 MB/s eta 0:00:01\r\u001b[K     |█████████████████████████▋      | 204 kB 5.0 MB/s eta 0:00:01\r\u001b[K     |██████████████████████████▉     | 215 kB 5.0 MB/s eta 0:00:01\r\u001b[K     |████████████████████████████▏   | 225 kB 5.0 MB/s eta 0:00:01\r\u001b[K     |█████████████████████████████▍  | 235 kB 5.0 MB/s eta 0:00:01\r\u001b[K     |██████████████████████████████▊ | 245 kB 5.0 MB/s eta 0:00:01\r\u001b[K     |████████████████████████████████| 256 kB 5.0 MB/s eta 0:00:01\r\u001b[K     |████████████████████████████████| 256 kB 5.0 MB/s \n",
            "\u001b[?25hInstalling collected packages: pickle5\n",
            "Successfully installed pickle5-0.0.12\n"
          ]
        }
      ],
      "source": [
        "!pip install pickle5\n",
        "import pickle5 as pickle"
      ]
    },
    {
      "cell_type": "code",
      "execution_count": null,
      "metadata": {
        "colab": {
          "base_uri": "https://localhost:8080/",
          "height": 418
        },
        "id": "b8Y3etQrU8Lq",
        "outputId": "5a724fc0-7346-41ae-dd38-5e2dd271c6b8"
      },
      "outputs": [
        {
          "output_type": "stream",
          "name": "stdout",
          "text": [
            "Collecting ortools\n",
            "  Downloading ortools-9.3.10497-cp37-cp37m-manylinux_2_17_x86_64.manylinux2014_x86_64.whl (15.5 MB)\n",
            "\u001b[K     |████████████████████████████████| 15.5 MB 5.2 MB/s \n",
            "\u001b[?25hRequirement already satisfied: numpy>=1.13.3 in /usr/local/lib/python3.7/dist-packages (from ortools) (1.21.6)\n",
            "Collecting protobuf>=3.19.4\n",
            "  Downloading protobuf-3.20.1-cp37-cp37m-manylinux_2_5_x86_64.manylinux1_x86_64.whl (1.0 MB)\n",
            "\u001b[K     |████████████████████████████████| 1.0 MB 66.2 MB/s \n",
            "\u001b[?25hRequirement already satisfied: absl-py>=0.13 in /usr/local/lib/python3.7/dist-packages (from ortools) (1.0.0)\n",
            "Requirement already satisfied: six in /usr/local/lib/python3.7/dist-packages (from absl-py>=0.13->ortools) (1.15.0)\n",
            "Installing collected packages: protobuf, ortools\n",
            "  Attempting uninstall: protobuf\n",
            "    Found existing installation: protobuf 3.17.3\n",
            "    Uninstalling protobuf-3.17.3:\n",
            "      Successfully uninstalled protobuf-3.17.3\n",
            "\u001b[31mERROR: pip's dependency resolver does not currently take into account all the packages that are installed. This behaviour is the source of the following dependency conflicts.\n",
            "tensorflow 2.8.0+zzzcolab20220506162203 requires tf-estimator-nightly==2.8.0.dev2021122109, which is not installed.\u001b[0m\n",
            "Successfully installed ortools-9.3.10497 protobuf-3.20.1\n"
          ]
        },
        {
          "output_type": "display_data",
          "data": {
            "application/vnd.colab-display-data+json": {
              "pip_warning": {
                "packages": [
                  "google"
                ]
              }
            }
          },
          "metadata": {}
        }
      ],
      "source": [
        "!pip install ortools"
      ]
    },
    {
      "cell_type": "markdown",
      "metadata": {
        "id": "LFgW0Z85MUDh"
      },
      "source": [
        ""
      ]
    },
    {
      "cell_type": "code",
      "execution_count": null,
      "metadata": {
        "id": "a9jd8_-KLZAO"
      },
      "outputs": [],
      "source": [
        "problem = load_problem('cvrp')"
      ]
    },
    {
      "cell_type": "code",
      "execution_count": null,
      "metadata": {
        "id": "sP20wnzWLZAP"
      },
      "outputs": [],
      "source": [
        "import pickle\n",
        "with open('data/train_cvrp_v3_12800.pkl', 'rb') as f:\n",
        "    train_dataset = pickle.load(f)\n",
        "with open('data/val_cvrp_v5_1000.pkl', 'rb') as f:\n",
        "    val_dataset = pickle.load(f)    \n",
        "    "
      ]
    },
    {
      "cell_type": "code",
      "execution_count": null,
      "metadata": {
        "id": "ZMxCDV2zLZAQ"
      },
      "outputs": [],
      "source": [
        "# train_dataset = problem.make_dataset(\n",
        "#         'data/vrp/dataset_test.pkl', size=21, num_samples=12800\n",
        "#     )\n"
      ]
    },
    {
      "cell_type": "code",
      "execution_count": null,
      "metadata": {
        "id": "qQNV_u0JLZAR"
      },
      "outputs": [],
      "source": [
        "# import pickle\n",
        "# def save_object(obj, filename):\n",
        "#     with open(filename, 'wb') as outp:  # Overwrites any existing file.\n",
        "#         pickle.dump(obj, outp, pickle.HIGHEST_PROTOCOL)\n",
        "\n",
        "# # sample usage\n",
        "# save_object(train_dataset, 'train_cvrp_v3_12800.pkl')"
      ]
    },
    {
      "cell_type": "code",
      "execution_count": null,
      "metadata": {
        "id": "nKIyRgDKLZAS"
      },
      "outputs": [],
      "source": [
        "# val_dataset = problem.make_dataset(\n",
        "#         'data/vrp/dataset_test_2.pkl', size=21, num_samples=1000\n",
        "#     )"
      ]
    },
    {
      "cell_type": "code",
      "execution_count": null,
      "metadata": {
        "id": "LFDQrQBXLZAU"
      },
      "outputs": [],
      "source": [
        "# save_object(val_dataset, 'val_cvrp_v5_1000.pkl')"
      ]
    },
    {
      "cell_type": "code",
      "execution_count": null,
      "metadata": {
        "colab": {
          "base_uri": "https://localhost:8080/"
        },
        "id": "rWxnqyjnLZAV",
        "outputId": "f3fdd65c-93e9-412a-cd5b-47a8f0670d3e"
      },
      "outputs": [
        {
          "output_type": "execute_result",
          "data": {
            "text/plain": [
              "torch.Size([20])"
            ]
          },
          "metadata": {},
          "execution_count": 11
        }
      ],
      "source": [
        "train_example = train_dataset[1]\n",
        "train_example['demand'].shape"
      ]
    },
    {
      "cell_type": "code",
      "execution_count": null,
      "metadata": {
        "colab": {
          "base_uri": "https://localhost:8080/"
        },
        "id": "5SMSShMpLZAX",
        "outputId": "74ad053b-c944-463b-cd0a-e86851082649"
      },
      "outputs": [
        {
          "output_type": "execute_result",
          "data": {
            "text/plain": [
              "26"
            ]
          },
          "metadata": {},
          "execution_count": 12
        }
      ],
      "source": [
        "len(train_example['tour_nodes'])"
      ]
    },
    {
      "cell_type": "code",
      "execution_count": null,
      "metadata": {
        "id": "78TGBkn3LZAZ"
      },
      "outputs": [],
      "source": [
        "def edges(adj):\n",
        "\n",
        "    for i, neighbors in enumerate(adj):\n",
        "        for j, v in enumerate(neighbors):\n",
        "            if v:\n",
        "                yield (i, j)"
      ]
    },
    {
      "cell_type": "code",
      "execution_count": null,
      "metadata": {
        "colab": {
          "base_uri": "https://localhost:8080/",
          "height": 373
        },
        "id": "39-KTS0pLZAa",
        "outputId": "a8b0301a-a621-4f74-b98a-45442cc176a7"
      },
      "outputs": [
        {
          "output_type": "display_data",
          "data": {
            "text/plain": [
              "<Figure size 576x432 with 1 Axes>"
            ],
            "image/png": "[encoded data removed]"
          },
          "metadata": {}
        }
      ],
      "source": [
        "all_loc = np.concatenate((np.array(train_example['depot']).reshape(1, -1), np.array(train_example['loc'])), 0)\n",
        "dist_matrix = squareform(pdist(all_loc))\n",
        "G = nx.from_numpy_array(1-train_example['graph'].numpy())\n",
        "G.remove_edges_from(nx.selfloop_edges(G))\n",
        "pos = {i: coord for i, coord in enumerate(all_loc)}\n",
        "# tour = train_example['tour_edges'].nonzero().numpy()\n",
        "tour = [i for i in edges(train_example['adj'])]\n",
        "plt.figure(figsize=(8, 6))\n",
        "nx.draw_networkx_nodes(G, pos=pos, node_size=100)\n",
        "nx.draw_networkx_edges(G, pos=pos, alpha=0.2)\n",
        "nx.draw_networkx_edges(G, pos=pos, width=2, edgelist=tour, )\n",
        "# tour = train_example['tour_nodes'].numpy()\n",
        "# tour = np.append(tour, tour[0])\n",
        "cost = train_example['total_dist']\n",
        "plt.title(f'Label tour, total cost: {cost:.0f}')\n",
        "plt.axis('off')\n",
        "plt.show()"
      ]
    },
    {
      "cell_type": "code",
      "execution_count": null,
      "metadata": {
        "colab": {
          "base_uri": "https://localhost:8080/"
        },
        "id": "2oaN2aOuLZAb",
        "outputId": "f4affbd1-75bd-4c27-fe49-3d2e35738358"
      },
      "outputs": [
        {
          "output_type": "execute_result",
          "data": {
            "text/plain": [
              "NARModel(\n",
              "  (init_embed_depot): Linear(in_features=2, out_features=100, bias=True)\n",
              "  (init_embed): Linear(in_features=3, out_features=100, bias=True)\n",
              "  (embedder): GNNEncoder(\n",
              "    (init_embed_edges): Embedding(3, 100)\n",
              "    (layers): ModuleList(\n",
              "      (0): GNNLayer(\n",
              "        (U): Linear(in_features=100, out_features=100, bias=True)\n",
              "        (V): Linear(in_features=100, out_features=100, bias=True)\n",
              "        (A): Linear(in_features=100, out_features=100, bias=True)\n",
              "        (B): Linear(in_features=100, out_features=100, bias=True)\n",
              "        (C): Linear(in_features=100, out_features=100, bias=True)\n",
              "        (norm_h): BatchNorm1d(100, eps=1e-05, momentum=0.1, affine=True, track_running_stats=False)\n",
              "        (norm_e): BatchNorm1d(100, eps=1e-05, momentum=0.1, affine=True, track_running_stats=False)\n",
              "      )\n",
              "      (1): GNNLayer(\n",
              "        (U): Linear(in_features=100, out_features=100, bias=True)\n",
              "        (V): Linear(in_features=100, out_features=100, bias=True)\n",
              "        (A): Linear(in_features=100, out_features=100, bias=True)\n",
              "        (B): Linear(in_features=100, out_features=100, bias=True)\n",
              "        (C): Linear(in_features=100, out_features=100, bias=True)\n",
              "        (norm_h): BatchNorm1d(100, eps=1e-05, momentum=0.1, affine=True, track_running_stats=False)\n",
              "        (norm_e): BatchNorm1d(100, eps=1e-05, momentum=0.1, affine=True, track_running_stats=False)\n",
              "      )\n",
              "      (2): GNNLayer(\n",
              "        (U): Linear(in_features=100, out_features=100, bias=True)\n",
              "        (V): Linear(in_features=100, out_features=100, bias=True)\n",
              "        (A): Linear(in_features=100, out_features=100, bias=True)\n",
              "        (B): Linear(in_features=100, out_features=100, bias=True)\n",
              "        (C): Linear(in_features=100, out_features=100, bias=True)\n",
              "        (norm_h): BatchNorm1d(100, eps=1e-05, momentum=0.1, affine=True, track_running_stats=False)\n",
              "        (norm_e): BatchNorm1d(100, eps=1e-05, momentum=0.1, affine=True, track_running_stats=False)\n",
              "      )\n",
              "    )\n",
              "  )\n",
              "  (project_node_emb): Linear(in_features=100, out_features=100, bias=True)\n",
              "  (project_graph_emb): Linear(in_features=100, out_features=100, bias=True)\n",
              "  (edge_pred): Linear(in_features=100, out_features=2, bias=True)\n",
              ")"
            ]
          },
          "metadata": {},
          "execution_count": 15
        }
      ],
      "source": [
        "from nets.attention_model import AttentionModel\n",
        "model = NARModel(\n",
        "    problem=load_problem('cvrp'),\n",
        "    embedding_dim=100,\n",
        "    encoder_class=GNNEncoder,\n",
        "    n_encode_layers=3,\n",
        "    aggregation='max',\n",
        "    aggregation_graph='mean',\n",
        "    normalization='batch',\n",
        "    beam_size = 1\n",
        ")\n",
        "# model = AttentionModel(\n",
        "#     problem=load_problem('cvrp'),\n",
        "#     embedding_dim=100,\n",
        "#     encoder_class=GNNEncoder,\n",
        "#     n_encode_layers=2,\n",
        "#     aggregation='max',\n",
        "#     aggregation_graph='mean',\n",
        "#     normalization='batch',\n",
        "#     n_heads = 4\n",
        "# )\n",
        "# model = pickle.load(open('/content/trained_models/vrp_solver1.sav', 'rb'))\n",
        "model.to('cpu')"
      ]
    },
    {
      "cell_type": "markdown",
      "source": [
        ""
      ],
      "metadata": {
        "id": "69vPGDq--8_P"
      }
    },
    {
      "cell_type": "code",
      "execution_count": null,
      "metadata": {
        "id": "IEICmj9OLZAc"
      },
      "outputs": [],
      "source": [
        "optimizer = optim.Adam(params=model.parameters(), lr=0.0005)"
      ]
    },
    {
      "cell_type": "code",
      "execution_count": null,
      "metadata": {
        "colab": {
          "base_uri": "https://localhost:8080/"
        },
        "id": "n5c_lqJSLZAc",
        "scrolled": true,
        "outputId": "15625394-f262-4cbd-cd52-3235c44dd067"
      },
      "outputs": [
        {
          "output_type": "stream",
          "name": "stdout",
          "text": [
            "\n",
            "Start train epoch 0, lr=0.0005 for run train\n"
          ]
        },
        {
          "output_type": "stream",
          "name": "stderr",
          "text": [
            "  1%|1         | 1/100 [00:01<01:49,  1.11s/it]"
          ]
        },
        {
          "output_type": "stream",
          "name": "stdout",
          "text": [
            "\n",
            "epoch: 0, train_batch_id: 0, loss: 0.08951319009065628, avg_cost: 0.0\n",
            "grad_norm: 0.2787414491176605, clipped: 0.2787414491176605\n"
          ]
        },
        {
          "output_type": "stream",
          "name": "stderr",
          "text": [
            "100%|##########| 100/100 [01:25<00:00,  1.17it/s]\n"
          ]
        },
        {
          "output_type": "stream",
          "name": "stdout",
          "text": [
            "Finished epoch 0, took 00:01:25 s\n",
            "Saving model and state...\n"
          ]
        },
        {
          "output_type": "stream",
          "name": "stderr",
          "text": [
            "100%|██████████| 10/10 [1:14:53<00:00, 449.35s/it]"
          ]
        },
        {
          "output_type": "stream",
          "name": "stdout",
          "text": [
            "Validation groundtruth cost: 7.623 +- 0.853\n",
            "Validation average cost: 9.007 +- 1.282\n",
            "Validation optimality gap: 18.324% +- 12.338\n"
          ]
        },
        {
          "output_type": "stream",
          "name": "stderr",
          "text": [
            "\n"
          ]
        }
      ],
      "source": [
        "class option():\n",
        "    def __init__(self):\n",
        "        self.run_name = 'train'\n",
        "        self.epoch_size = 10000\n",
        "        self.batch_size = 100\n",
        "        self.no_tensorboard = True\n",
        "        self.num_workers = 0\n",
        "        self.no_progress_bar = False\n",
        "        self.device = 'cpu'\n",
        "        self.model = 'nar'\n",
        "        self.accumulation_steps = 8\n",
        "        self.max_grad_norm = 1\n",
        "        self.log_step = 100\n",
        "        self.checkpoint_epochs = 0\n",
        "        self.n_epochs = 1\n",
        "        self.save_dir = \"\"\n",
        "opt = option()\n",
        "\n",
        "for epoch in range(opt.n_epochs):\n",
        "    train_epoch_sl(\n",
        "        model,\n",
        "        optimizer,\n",
        "        optim.lr_scheduler.LambdaLR(optimizer, lambda epoch: 1.0 ** epoch),\n",
        "        epoch,\n",
        "        train_dataset,\n",
        "        [val_dataset],\n",
        "        problem,\n",
        "        None,\n",
        "        opt\n",
        "    )"
      ]
    },
    {
      "cell_type": "code",
      "source": [
        "from torch.utils.data import DataLoader, RandomSampler\n",
        "loader = DataLoader(val_dataset, batch_size=opt.batch_size, shuffle=False, num_workers=opt.num_workers)"
      ],
      "metadata": {
        "id": "ZvFeKLPSh9X4"
      },
      "execution_count": null,
      "outputs": []
    },
    {
      "cell_type": "code",
      "source": [
        ""
      ],
      "metadata": {
        "id": "khNgJl3EiNAy"
      },
      "execution_count": null,
      "outputs": []
    },
    {
      "cell_type": "code",
      "source": [
        "# filename = 'model_10ep_1beam_4layerenc.sav'\n",
        "# pickle.dump(model, open(filename, 'wb'))"
      ],
      "metadata": {
        "id": "V_evVu9VMhi0"
      },
      "execution_count": null,
      "outputs": []
    },
    {
      "cell_type": "code",
      "execution_count": null,
      "metadata": {
        "id": "dibkOYC5Qks-"
      },
      "outputs": [],
      "source": [
        "cvrplib = False"
      ]
    },
    {
      "cell_type": "code",
      "execution_count": null,
      "metadata": {
        "id": "l8EXqdrrLZAk",
        "colab": {
          "base_uri": "https://localhost:8080/",
          "height": 322
        },
        "outputId": "1bc883a8-abb8-41dc-caeb-7de4e75d11cd"
      },
      "outputs": [
        {
          "output_type": "error",
          "ename": "RuntimeError",
          "evalue": "ignored",
          "traceback": [
            "\u001b[0;31m---------------------------------------------------------------------------\u001b[0m",
            "\u001b[0;31mRuntimeError\u001b[0m                              Traceback (most recent call last)",
            "\u001b[0;32m<ipython-input-21-57bb88560786>\u001b[0m in \u001b[0;36m<module>\u001b[0;34m()\u001b[0m\n\u001b[1;32m     18\u001b[0m     \u001b[0madd_depot_loc\u001b[0m \u001b[0;34m=\u001b[0m \u001b[0mtorch\u001b[0m\u001b[0;34m.\u001b[0m\u001b[0mcat\u001b[0m\u001b[0;34m(\u001b[0m\u001b[0;34m(\u001b[0m\u001b[0mtest_example\u001b[0m\u001b[0;34m[\u001b[0m\u001b[0;34m'depot'\u001b[0m\u001b[0;34m]\u001b[0m\u001b[0;34m[\u001b[0m\u001b[0;32mNone\u001b[0m\u001b[0;34m,\u001b[0m \u001b[0;34m:\u001b[0m\u001b[0;34m]\u001b[0m\u001b[0;34m,\u001b[0m \u001b[0mtest_example\u001b[0m\u001b[0;34m[\u001b[0m\u001b[0;34m'loc'\u001b[0m\u001b[0;34m]\u001b[0m\u001b[0;34m)\u001b[0m\u001b[0;34m,\u001b[0m \u001b[0;36m0\u001b[0m\u001b[0;34m)\u001b[0m\u001b[0;34m\u001b[0m\u001b[0;34m\u001b[0m\u001b[0m\n\u001b[1;32m     19\u001b[0m     \u001b[0mx\u001b[0m \u001b[0;34m=\u001b[0m \u001b[0mtorch\u001b[0m\u001b[0;34m.\u001b[0m\u001b[0mcat\u001b[0m\u001b[0;34m(\u001b[0m\u001b[0;34m(\u001b[0m\u001b[0madd_depot_loc\u001b[0m\u001b[0;34m,\u001b[0m \u001b[0madd_depot_demand\u001b[0m\u001b[0;34m[\u001b[0m\u001b[0;34m:\u001b[0m\u001b[0;34m,\u001b[0m \u001b[0;32mNone\u001b[0m\u001b[0;34m]\u001b[0m\u001b[0;34m)\u001b[0m\u001b[0;34m,\u001b[0m \u001b[0;36m1\u001b[0m\u001b[0;34m)\u001b[0m\u001b[0;34m\u001b[0m\u001b[0;34m\u001b[0m\u001b[0m\n\u001b[0;32m---> 20\u001b[0;31m     \u001b[0mgraph\u001b[0m \u001b[0;34m=\u001b[0m \u001b[0mtest_example\u001b[0m\u001b[0;34m[\u001b[0m\u001b[0;34m'graph'\u001b[0m\u001b[0;34m]\u001b[0m\u001b[0;34m.\u001b[0m\u001b[0mto\u001b[0m\u001b[0;34m(\u001b[0m\u001b[0;34m'cuda'\u001b[0m\u001b[0;34m)\u001b[0m\u001b[0;34m\u001b[0m\u001b[0;34m\u001b[0m\u001b[0m\n\u001b[0m",
            "\u001b[0;32m/usr/local/lib/python3.7/dist-packages/torch/cuda/__init__.py\u001b[0m in \u001b[0;36m_lazy_init\u001b[0;34m()\u001b[0m\n\u001b[1;32m    214\u001b[0m         \u001b[0;31m# This function throws if there's a driver initialization error, no GPUs\u001b[0m\u001b[0;34m\u001b[0m\u001b[0;34m\u001b[0m\u001b[0;34m\u001b[0m\u001b[0m\n\u001b[1;32m    215\u001b[0m         \u001b[0;31m# are found or any other error occurs\u001b[0m\u001b[0;34m\u001b[0m\u001b[0;34m\u001b[0m\u001b[0;34m\u001b[0m\u001b[0m\n\u001b[0;32m--> 216\u001b[0;31m         \u001b[0mtorch\u001b[0m\u001b[0;34m.\u001b[0m\u001b[0m_C\u001b[0m\u001b[0;34m.\u001b[0m\u001b[0m_cuda_init\u001b[0m\u001b[0;34m(\u001b[0m\u001b[0;34m)\u001b[0m\u001b[0;34m\u001b[0m\u001b[0;34m\u001b[0m\u001b[0m\n\u001b[0m\u001b[1;32m    217\u001b[0m         \u001b[0;31m# Some of the queued calls may reentrantly call _lazy_init();\u001b[0m\u001b[0;34m\u001b[0m\u001b[0;34m\u001b[0m\u001b[0;34m\u001b[0m\u001b[0m\n\u001b[1;32m    218\u001b[0m         \u001b[0;31m# we need to just return without initializing in that case.\u001b[0m\u001b[0;34m\u001b[0m\u001b[0;34m\u001b[0m\u001b[0;34m\u001b[0m\u001b[0m\n",
            "\u001b[0;31mRuntimeError\u001b[0m: No CUDA GPUs are available"
          ]
        }
      ],
      "source": [
        "if cvrplib:\n",
        "  from generator.parse_cvrplib import get_instance_from_CVRPLIB\n",
        "  from problems.vrp.problem_vrp import nearest_neighbor_graph\n",
        "\n",
        "  car_num = 7\n",
        "  test_df, test_tour, test_paths  = get_instance_from_CVRPLIB(\"B\", \"B-n52-k7\")\n",
        "  test_df['demand_norm'] = test_df['demand']/test_df['cap']\n",
        "  test_df['latitude_norm'] = test_df['latitude']/100\n",
        "  test_df['longitude_norm'] = test_df['longitude']/100\n",
        "  x = torch.tensor(test_df[['latitude_norm', 'longitude_norm', 'demand_norm']].values).type(torch.float)\n",
        "  graph = torch.ByteTensor(nearest_neighbor_graph(x, neighbors = 0.2, knn_strat = 'percentage')).to('cuda') \n",
        "\n",
        "else:\n",
        "  car_num = 5\n",
        "  test_example = val_dataset[81]\n",
        "  with torch.no_grad():\n",
        "    add_depot_demand = torch.cat((torch.zeros(1), test_example['demand']), 0)\n",
        "    add_depot_loc = torch.cat((test_example['depot'][None, :], test_example['loc']), 0)\n",
        "    x = torch.cat((add_depot_loc, add_depot_demand[:, None]), 1)\n",
        "    graph = test_example['graph'].to('cuda')"
      ]
    },
    {
      "cell_type": "code",
      "execution_count": null,
      "metadata": {
        "id": "IEHF__diLZAl"
      },
      "outputs": [],
      "source": [
        "dist_matrix = squareform(pdist(x[:, :2].numpy()))\n",
        "dist_matrix[(range(dist_matrix.shape[0])), (range(dist_matrix.shape[0]))] = np.inf"
      ]
    },
    {
      "cell_type": "markdown",
      "metadata": {
        "id": "nQv9H-DdJEX1"
      },
      "source": [
        "Make GNN prediction"
      ]
    },
    {
      "cell_type": "code",
      "execution_count": null,
      "metadata": {
        "id": "ABKsCXxNLZAl"
      },
      "outputs": [],
      "source": [
        "nodes = x[None, ...].to('cuda')\n",
        "graph_ = graph[None, ...].to('cuda')\n",
        "model.eval()\n",
        "with torch.no_grad():\n",
        "    embeddings = model.embedder(model._init_embed(nodes), graph_)\n",
        "embeddings.shape"
      ]
    },
    {
      "cell_type": "code",
      "execution_count": null,
      "metadata": {
        "id": "6KG2gQPkLZAl"
      },
      "outputs": [],
      "source": [
        "with torch.no_grad():\n",
        "    Ux = model.project_node_emb(embeddings)\n",
        "    Gx = model.project_graph_emb(embeddings.mean(dim=1))\n",
        "edge_embeddings = F.relu(Ux[:, :, None, :] + Ux[:, None, :, :] + Gx[:, None, None, :])\n",
        "\n",
        "if model.mask_graph:\n",
        "    edge_embeddings[graph[:, :, :, None].expand_as(edge_embeddings)] = 0\n",
        "\n",
        "# Compute logits\n",
        "with torch.no_grad():\n",
        "    logits = model.edge_pred(edge_embeddings)  # B x V x V x 2\n",
        "proba = F.softmax(logits, dim=3)\n",
        "proba_adj = proba[0, :, :, 1].cpu().numpy()\n",
        "proba_adj.shape"
      ]
    },
    {
      "cell_type": "code",
      "execution_count": null,
      "metadata": {
        "id": "ciFtPtBmLZAl"
      },
      "outputs": [],
      "source": [
        "# G = nx.from_numpy_array(1-test_example['graph'].numpy())\n",
        "G = nx.from_numpy_array(1-graph.cpu().numpy())\n",
        "G.remove_edges_from(nx.selfloop_edges(G))\n",
        "pos = {i: coord.numpy() for i, coord in enumerate(x[:, :2])}\n",
        "plt.figure(figsize=(8, 6))\n",
        "nx.draw_networkx_nodes(G, pos=pos, node_size=100)\n",
        "nx.draw_networkx_edges(G, pos=pos, alpha=0.2)\n",
        "plt.title('After sparsification')\n",
        "plt.axis('off')\n",
        "plt.show()"
      ]
    },
    {
      "cell_type": "code",
      "execution_count": null,
      "metadata": {
        "id": "vKzUMD_zLZAm"
      },
      "outputs": [],
      "source": [
        "G = nx.from_numpy_array(proba_adj)\n",
        "G.remove_edges_from(nx.selfloop_edges(G))\n",
        "pos = {i: coord.numpy() for i, coord in enumerate(x[:, :2])}\n",
        "plt.figure(figsize=(8, 6))\n",
        "nx.draw_networkx_nodes(G, pos=pos, node_size=100)\n",
        "nx.draw_networkx_edges(G, pos=pos, width=[(G[u][v]['weight']*2)**2 for u,v in G.edges])\n",
        "plt.title('Probabilistic graph')\n",
        "plt.axis('off')\n",
        "plt.show()"
      ]
    },
    {
      "cell_type": "markdown",
      "metadata": {
        "id": "SUdBDidmJNdU"
      },
      "source": [
        "GNN model"
      ]
    },
    {
      "cell_type": "code",
      "execution_count": null,
      "metadata": {
        "id": "lNcnljjvVMtN"
      },
      "outputs": [],
      "source": [
        "def array_separator(arr):\n",
        "  out = []\n",
        "  out_temp = [0]\n",
        "  for i in arr[1:]:\n",
        "    if i == 0:\n",
        "      if len(out_temp) != 1:\n",
        "        out_temp.append(0)\n",
        "        out.append(np.array(out_temp))\n",
        "      out_temp = [0]\n",
        "    else:\n",
        "      out_temp.append(i)\n",
        "  return np.array(out)"
      ]
    },
    {
      "cell_type": "code",
      "execution_count": null,
      "metadata": {
        "id": "6m1S4Lt-bxHE"
      },
      "outputs": [],
      "source": [
        "nodes.shape"
      ]
    },
    {
      "cell_type": "code",
      "execution_count": null,
      "metadata": {
        "id": "FRr85NjSLZAm"
      },
      "outputs": [],
      "source": [
        "with torch.no_grad():\n",
        "    _, _, tour = model.forward(nodes, graph[None, :], car_num, return_pi=True)\n",
        "tour = tour.cpu().numpy()[0]\n",
        "tour = np.append(tour, tour[0])"
      ]
    },
    {
      "cell_type": "code",
      "execution_count": null,
      "metadata": {
        "id": "Q5s_gO0RLZAm"
      },
      "outputs": [],
      "source": [
        "# G = nx.from_numpy_array(1-test_example['graph'].numpy())\n",
        "G = nx.from_numpy_array(1-graph.cpu().numpy())\n",
        "G.remove_edges_from(nx.selfloop_edges(G))\n",
        "plt.figure(figsize=(8, 6))\n",
        "nx.draw_networkx_nodes(G, pos=pos, node_size=200)\n",
        "# nx.draw_networkx_edges(G, pos=pos, alpha=0.2)\n",
        "subtours = array_separator(tour)\n",
        "colors = [\"tab:blue\", \"tab:red\", \"tab:green\", \"tab:purple\", \"tab:orange\", \"tab:olive\", \"black\", \"tab:blue\", \"tab:red\", \"tab:green\", \"tab:purple\", \"tab:orange\", \"tab:olive\", \"black\"]\n",
        "for n, sub_t in enumerate(subtours):\n",
        "  nx.draw_networkx_edges(G, pos=pos, width=2, edgelist=np.stack([sub_t[:-1], sub_t[1:]], axis=1), edge_color = colors[n])\n",
        "nx.draw_networkx_labels(G, pos)\n",
        "dist_matrix_ = dist_matrix.copy()\n",
        "dist_matrix_[(range(dist_matrix_.shape[0])), (range(dist_matrix_.shape[0]))] = 0\n",
        "cost = dist_matrix_[tour[:-1], tour[1:]].sum()\n",
        "plt.title(f'GNN solver, total cost: {cost:.2f}')\n",
        "plt.axis('off')\n",
        "plt.show()\n"
      ]
    },
    {
      "cell_type": "code",
      "execution_count": null,
      "metadata": {
        "id": "SKe8NaZWLZAn"
      },
      "outputs": [],
      "source": [
        "if cvrplib:\n",
        "  temp = {i: 0 for i in range(test_df['cars'].max())}\n",
        "  car = 0\n",
        "  for i in tour[1:].astype(int):\n",
        "      if i == 0:\n",
        "          car+=1\n",
        "      else:\n",
        "          temp[car] += test_df['demand'][i]/test_df['cap'].max()\n",
        "else:\n",
        "  temp = {i: 0 for i in range(car_num)}\n",
        "  car = 0\n",
        "  for i in tour[1:].astype(int):\n",
        "      if i == 0:\n",
        "          car+=1\n",
        "      else:\n",
        "          temp[car] += test_example['demand'][i-1]\n",
        "temp"
      ]
    },
    {
      "cell_type": "markdown",
      "metadata": {
        "id": "2CtCqCcoJnyw"
      },
      "source": [
        "OR-Tools"
      ]
    },
    {
      "cell_type": "code",
      "execution_count": null,
      "metadata": {
        "id": "OW1UaCnyMUmb"
      },
      "outputs": [],
      "source": [
        "if cvrplib:\n",
        "  from heurictics.op_tools import *\n",
        "  from generator.distance_matrix import distance_function\n",
        "  customer_count = 52\n",
        "\n",
        "  distance = distance_function(test_df[['latitude', 'longitude']].values, is_coord = False)\n",
        "  dist_matrix =pd.DataFrame(distance)\n",
        "  dist_matrix.iloc[range(customer_count), range(customer_count)] = 0\n",
        "\n",
        "  op_results = main(test_df, distance, cars = test_df['cars'].max(), cap = test_df['cap'].max())\n",
        "  tour_sublist = np.array(list(op_results['paths'].values()))\n",
        "  rtour = np.array([item for sublist in tour_sublist for item in sublist])\n",
        "else:\n",
        "  rtour = test_example['tour_nodes'].numpy()"
      ]
    },
    {
      "cell_type": "code",
      "execution_count": null,
      "metadata": {
        "id": "gYpywd8ALZAn"
      },
      "outputs": [],
      "source": [
        "plt.figure(figsize=(8, 6))\n",
        "nx.draw_networkx_nodes(G, pos=pos, node_size=200)\n",
        "# nx.draw_networkx_edges(G, pos=pos, alpha=0.2)\n",
        "subtours = array_separator(rtour)\n",
        "colors = [\"tab:blue\", \"tab:red\", \"tab:green\", \"tab:purple\", \"tab:orange\", \"tab:olive\", \"black\", \"tab:blue\", \"tab:red\", \"tab:green\", \"tab:purple\", \"tab:orange\", \"tab:olive\", \"black\"]\n",
        "for n, sub_t in enumerate(subtours):\n",
        "  nx.draw_networkx_edges(G, pos=pos, width=2, edgelist=np.stack([sub_t[:-1], sub_t[1:]], axis=1), edge_color = colors[n])\n",
        "nx.draw_networkx_labels(G,pos)\n",
        "cost = dist_matrix_[rtour[:-1].astype(int), rtour[1:].astype(int)].sum()\n",
        "plt.title(f'OR-tool, total cost: {cost:.2f}')\n",
        "plt.axis('off')\n",
        "plt.show()"
      ]
    },
    {
      "cell_type": "code",
      "execution_count": null,
      "metadata": {
        "id": "WkQJzPDELZAn"
      },
      "outputs": [],
      "source": [
        "if cvrplib:\n",
        "  temp = {i: 0 for i in range(test_df['cars'].max())}\n",
        "  car = 0\n",
        "  for i in rtour[1:].astype(int):\n",
        "      if i == 0:\n",
        "          car+=1/2\n",
        "      else:\n",
        "          temp[car] += test_df['demand'][i]/test_df['cap'].max()\n",
        "else:\n",
        "  temp = {i: 0 for i in range(car_num)}\n",
        "  car = 0\n",
        "  for i in rtour[1:].astype(int):\n",
        "      if i == 0:\n",
        "          car+=1\n",
        "      else:\n",
        "          temp[car] += test_example['demand'][i-1]\n",
        "temp"
      ]
    },
    {
      "cell_type": "markdown",
      "metadata": {
        "id": "nv7nbBjdJ0SB"
      },
      "source": [
        "Greedy solution"
      ]
    },
    {
      "cell_type": "code",
      "execution_count": null,
      "metadata": {
        "id": "7zQAvpedLZAn"
      },
      "outputs": [],
      "source": [
        "if not cvrplib:\n",
        "  test_df_ = pd.DataFrame(torch.cat((test_example['depot'][None, : ], test_example['loc']), 0).numpy(), columns = ['latitude', 'longitude'])\n",
        "  test_df_['demand'] = torch.cat((torch.zeros(1), test_example['demand']), 0).numpy()\n",
        "  test_df_['cap'] = 1\n",
        "  df_gr = test_df_.copy()\n",
        "else:\n",
        "  df_gr = test_df.copy()"
      ]
    },
    {
      "cell_type": "code",
      "execution_count": null,
      "metadata": {
        "id": "f74VEaUp6hYi"
      },
      "outputs": [],
      "source": [
        "from generator.distance_matrix import distance_function\n",
        "customer_count = 21\n",
        "\n",
        "distance = distance_function(df_gr[['latitude', 'longitude']].values, is_coord = False)\n",
        "dist_matrix =pd.DataFrame(distance)\n",
        "dist_matrix.iloc[range(customer_count), range(customer_count)] = np.inf"
      ]
    },
    {
      "cell_type": "code",
      "execution_count": null,
      "metadata": {
        "id": "HDNFSW756Zif"
      },
      "outputs": [],
      "source": [
        "from heurictics.greedy import greedy_heurictics\n",
        "\n",
        "greedy_results = greedy_heurictics(df_gr, dist_matrix, dim = customer_count, cap = df_gr['cap'].max(), k_nei = 3, iters = 100)"
      ]
    },
    {
      "cell_type": "code",
      "execution_count": null,
      "metadata": {
        "id": "iqdvrckT7XDn"
      },
      "outputs": [],
      "source": [
        "gr_tour = []\n",
        "for p in greedy_results['paths'].values():\n",
        "  for node in p: \n",
        "    gr_tour.append(node)"
      ]
    },
    {
      "cell_type": "code",
      "execution_count": null,
      "metadata": {
        "id": "rex8PGY_7G9A"
      },
      "outputs": [],
      "source": [
        "gr_tour = np.array(gr_tour)\n",
        "plt.figure(figsize=(8, 6))\n",
        "nx.draw_networkx_nodes(G, pos=pos, node_size=200)\n",
        "# nx.draw_networkx_edges(G, pos=pos, alpha=0.2)\n",
        "subtours = array_separator(gr_tour)\n",
        "colors = [\"tab:blue\", \"tab:red\", \"tab:green\", \"tab:purple\", \"tab:orange\", \"tab:olive\", \"black\", \"tab:blue\", \"tab:red\", \"tab:green\", \"tab:purple\", \"tab:orange\", \"tab:olive\", \"black\"]\n",
        "for n, sub_t in enumerate(subtours):\n",
        "  nx.draw_networkx_edges(G, pos=pos, width=2, edgelist=np.stack([sub_t[:-1], sub_t[1:]], axis=1), edge_color = colors[n])\n",
        "nx.draw_networkx_labels(G,pos)\n",
        "cost = dist_matrix_[gr_tour[:-1].astype(int), gr_tour[1:].astype(int)].sum()\n",
        "plt.title(f'Greedy Heuristic, total cost: {cost:.2f}')\n",
        "plt.axis('off')\n",
        "plt.show()"
      ]
    },
    {
      "cell_type": "code",
      "source": [
        "if cvrplib:\n",
        "  temp = {i: 0 for i in range(test_df_['cars'].max())}\n",
        "  car = 0\n",
        "  for i in gr_tour[1:].astype(int):\n",
        "      if i == 0:\n",
        "          car+=1/2\n",
        "      else:\n",
        "          temp[car] += test_df_['demand'][i]/test_df_['cap'].max()\n",
        "else:\n",
        "  temp = {i: 0 for i in range(car_num)}\n",
        "  car = 0\n",
        "  for i in gr_tour[1:].astype(int):\n",
        "      if i == 0:\n",
        "          car+=1/2\n",
        "      else:\n",
        "          temp[car] += test_example['demand'][i-1]\n",
        "temp"
      ],
      "metadata": {
        "id": "88GX9hYkPkIm"
      },
      "execution_count": null,
      "outputs": []
    },
    {
      "cell_type": "markdown",
      "metadata": {
        "id": "JwvddFpIJ_LF"
      },
      "source": [
        "Exact solution from CVRPLib (if exists)"
      ]
    },
    {
      "cell_type": "code",
      "execution_count": null,
      "metadata": {
        "id": "gHCBQixSKA7F"
      },
      "outputs": [],
      "source": [
        "# G = nx.from_numpy_array(1-test_example['graph'].numpy())\n",
        "G = nx.from_numpy_array(1-graph.cpu().numpy())\n",
        "G.remove_edges_from(nx.selfloop_edges(G))\n",
        "plt.figure(figsize=(8, 6))\n",
        "nx.draw_networkx_nodes(G, pos=pos, node_size=200)\n",
        "nx.draw_networkx_edges(G, pos=pos, alpha=0.2)\n",
        "subtours = array_separator(test_tour)\n",
        "colors = [\"tab:blue\", \"tab:red\", \"tab:green\", \"tab:purple\", \"tab:orange\", \"tab:olive\", \"black\", \"tab:blue\", \"tab:red\", \"tab:green\", \"tab:purple\", \"tab:orange\", \"tab:olive\", \"black\"]\n",
        "for n, sub_t in enumerate(subtours):\n",
        "  nx.draw_networkx_edges(G, pos=pos, width=2, edgelist=np.stack([sub_t[:-1], sub_t[1:]], axis=1), edge_color = colors[n])\n",
        "nx.draw_networkx_labels(G, pos)\n",
        "dist_matrix = squareform(pdist(x[:, :2].numpy()))\n",
        "dist_matrix[(range(dist_matrix.shape[0])), (range(dist_matrix.shape[0]))] = np.inf\n",
        "dist_matrix_ = dist_matrix.copy()\n",
        "dist_matrix_[(range(dist_matrix_.shape[0])), (range(dist_matrix_.shape[0]))] = 0\n",
        "cost = dist_matrix_[test_tour[:-1], test_tour[1:]].sum()\n",
        "plt.title(f'CVRPLib, total cost: {cost:.2f}')\n",
        "plt.axis('off')\n",
        "plt.show()\n"
      ]
    },
    {
      "cell_type": "code",
      "execution_count": null,
      "metadata": {
        "id": "cGm_zS3SPfdb"
      },
      "outputs": [],
      "source": [
        "if cvrplib:\n",
        "  temp = {i: 0 for i in range(test_df['cars'].max())}\n",
        "  car = 0\n",
        "  for i in test_tour[1:].astype(int):\n",
        "      if i == 0:\n",
        "          car+=1/2\n",
        "      else:\n",
        "          temp[car] += test_df['demand'][i]/test_df['cap'].max()\n",
        "else:\n",
        "  temp = {i: 0 for i in range(car_num)}\n",
        "  car = 0\n",
        "  for i in test_tour[1:].astype(int):\n",
        "      if i == 0:\n",
        "          car+=1/2\n",
        "      else:\n",
        "          temp[car] += test_example['demand'][i-1]\n",
        "temp"
      ]
    }
  ],
  "metadata": {
    "colab": {
      "collapsed_sections": [],
      "name": "Копия блокнота \"net.ipynb\"",
      "provenance": []
    },
    "kernelspec": {
      "display_name": "Python 3",
      "language": "python",
      "name": "python3"
    },
    "language_info": {
      "codemirror_mode": {
        "name": "ipython",
        "version": 3
      },
      "file_extension": ".py",
      "mimetype": "text/x-python",
      "name": "python",
      "nbconvert_exporter": "python",
      "pygments_lexer": "ipython3",
      "version": "3.7.3"
    },
    "accelerator": "GPU"
  },
  "nbformat": 4,
  "nbformat_minor": 0
}