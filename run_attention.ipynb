{
 "cells": [
  {
   "cell_type": "code",
   "execution_count": 1,
   "metadata": {
    "colab": {
     "base_uri": "https://localhost:8080/"
    },
    "id": "rrxV3xxYLaDF",
    "outputId": "f0ad6b18-cb40-4458-d9bf-a752141a3742"
   },
   "outputs": [],
   "source": [
    "# !rm -r sample_data .config\n",
    "# !git clone https://github.com/saveliybabin/VRP-solver ."
   ]
  },
  {
   "cell_type": "code",
   "execution_count": 2,
   "metadata": {
    "id": "v4-n723vLZAL"
   },
   "outputs": [],
   "source": [
    "import requests\n",
    "import numpy as np\n",
    "import torch\n",
    "import torch.nn.functional as F\n",
    "import torch.optim as optim\n",
    "import networkx as nx\n",
    "import matplotlib.pyplot as plt\n",
    "from scipy.spatial.distance import pdist, squareform\n",
    "import pandas as pd\n",
    "from train import train_epoch_sl\n",
    "from nets.nar_model_vrp import NARModel\n",
    "from nets.encoders.gnn_encoder import GNNEncoder\n",
    "from utils import torch_load_cpu, load_problem\n",
    "import warnings\n",
    "warnings.filterwarnings('ignore')"
   ]
  },
  {
   "cell_type": "code",
   "execution_count": 3,
   "metadata": {
    "colab": {
     "base_uri": "https://localhost:8080/"
    },
    "id": "bJWkBlOrRMP2",
    "outputId": "a24ae5b8-e835-4cab-91ad-0aafba5c72ad"
   },
   "outputs": [],
   "source": [
    "# !pip install pickle5\n",
    "import pickle5 as pickle"
   ]
  },
  {
   "cell_type": "code",
   "execution_count": 4,
   "metadata": {
    "colab": {
     "base_uri": "https://localhost:8080/",
     "height": 418
    },
    "id": "b8Y3etQrU8Lq",
    "outputId": "83d5649c-51b3-4f82-eb98-a21fc862ca8e"
   },
   "outputs": [
    {
     "name": "stdout",
     "output_type": "stream",
     "text": [
      "Requirement already satisfied: ortools in c:\\users\\sbabin\\appdata\\local\\continuum\\anaconda3\\lib\\site-packages (9.3.10497)\n",
      "Requirement already satisfied: absl-py>=0.13 in c:\\users\\sbabin\\appdata\\local\\continuum\\anaconda3\\lib\\site-packages (from ortools) (1.0.0)\n",
      "Requirement already satisfied: protobuf>=3.19.4 in c:\\users\\sbabin\\appdata\\local\\continuum\\anaconda3\\lib\\site-packages (from ortools) (3.20.1)\n",
      "Requirement already satisfied: numpy>=1.13.3 in c:\\users\\sbabin\\appdata\\local\\continuum\\anaconda3\\lib\\site-packages (from ortools) (1.19.5)\n",
      "Requirement already satisfied: six in c:\\users\\sbabin\\appdata\\local\\continuum\\anaconda3\\lib\\site-packages (from absl-py>=0.13->ortools) (1.12.0)\n"
     ]
    },
    {
     "name": "stderr",
     "output_type": "stream",
     "text": [
      "WARNING: Ignoring invalid distribution -umpy (c:\\users\\sbabin\\appdata\\local\\continuum\\anaconda3\\lib\\site-packages)\n",
      "WARNING: Ignoring invalid distribution -tari-py (c:\\users\\sbabin\\appdata\\local\\continuum\\anaconda3\\lib\\site-packages)\n",
      "WARNING: Ignoring invalid distribution -cipy (c:\\users\\sbabin\\appdata\\local\\continuum\\anaconda3\\lib\\site-packages)\n",
      "WARNING: Ignoring invalid distribution -umpy (c:\\users\\sbabin\\appdata\\local\\continuum\\anaconda3\\lib\\site-packages)\n",
      "WARNING: Ignoring invalid distribution -tari-py (c:\\users\\sbabin\\appdata\\local\\continuum\\anaconda3\\lib\\site-packages)\n",
      "WARNING: Ignoring invalid distribution -cipy (c:\\users\\sbabin\\appdata\\local\\continuum\\anaconda3\\lib\\site-packages)\n",
      "WARNING: Ignoring invalid distribution -umpy (c:\\users\\sbabin\\appdata\\local\\continuum\\anaconda3\\lib\\site-packages)\n",
      "WARNING: Ignoring invalid distribution -tari-py (c:\\users\\sbabin\\appdata\\local\\continuum\\anaconda3\\lib\\site-packages)\n",
      "WARNING: Ignoring invalid distribution -cipy (c:\\users\\sbabin\\appdata\\local\\continuum\\anaconda3\\lib\\site-packages)\n",
      "WARNING: Ignoring invalid distribution -umpy (c:\\users\\sbabin\\appdata\\local\\continuum\\anaconda3\\lib\\site-packages)\n",
      "WARNING: Ignoring invalid distribution -tari-py (c:\\users\\sbabin\\appdata\\local\\continuum\\anaconda3\\lib\\site-packages)\n",
      "WARNING: Ignoring invalid distribution -cipy (c:\\users\\sbabin\\appdata\\local\\continuum\\anaconda3\\lib\\site-packages)\n",
      "WARNING: Ignoring invalid distribution -umpy (c:\\users\\sbabin\\appdata\\local\\continuum\\anaconda3\\lib\\site-packages)\n",
      "WARNING: Ignoring invalid distribution -tari-py (c:\\users\\sbabin\\appdata\\local\\continuum\\anaconda3\\lib\\site-packages)\n",
      "WARNING: Ignoring invalid distribution -cipy (c:\\users\\sbabin\\appdata\\local\\continuum\\anaconda3\\lib\\site-packages)\n",
      "WARNING: Ignoring invalid distribution -umpy (c:\\users\\sbabin\\appdata\\local\\continuum\\anaconda3\\lib\\site-packages)\n",
      "WARNING: Ignoring invalid distribution -tari-py (c:\\users\\sbabin\\appdata\\local\\continuum\\anaconda3\\lib\\site-packages)\n",
      "WARNING: Ignoring invalid distribution -cipy (c:\\users\\sbabin\\appdata\\local\\continuum\\anaconda3\\lib\\site-packages)\n",
      "WARNING: You are using pip version 21.3.1; however, version 22.1 is available.\n",
      "You should consider upgrading via the 'c:\\users\\sbabin\\appdata\\local\\continuum\\anaconda3\\python.exe -m pip install --upgrade pip' command.\n"
     ]
    }
   ],
   "source": [
    "!pip install ortools"
   ]
  },
  {
   "cell_type": "markdown",
   "metadata": {
    "id": "LFgW0Z85MUDh"
   },
   "source": []
  },
  {
   "cell_type": "code",
   "execution_count": 5,
   "metadata": {
    "id": "a9jd8_-KLZAO"
   },
   "outputs": [],
   "source": [
    "problem = load_problem('cvrp')"
   ]
  },
  {
   "cell_type": "code",
   "execution_count": 6,
   "metadata": {
    "id": "sP20wnzWLZAP"
   },
   "outputs": [],
   "source": [
    "import pickle\n",
    "with open('data/train_cvrp_v3_12800.pkl', 'rb') as f:\n",
    "    train_dataset = pickle.load(f)\n",
    "with open('data/val_cvrp_v5_1000.pkl', 'rb') as f:\n",
    "    val_dataset = pickle.load(f)    \n",
    "    "
   ]
  },
  {
   "cell_type": "code",
   "execution_count": 7,
   "metadata": {
    "id": "ZMxCDV2zLZAQ"
   },
   "outputs": [],
   "source": [
    "# train_dataset = problem.make_dataset(\n",
    "#         'data/vrp/dataset_test.pkl', size=21, num_samples=12800\n",
    "#     )\n"
   ]
  },
  {
   "cell_type": "code",
   "execution_count": 8,
   "metadata": {
    "id": "qQNV_u0JLZAR"
   },
   "outputs": [],
   "source": [
    "# import pickle\n",
    "# def save_object(obj, filename):\n",
    "#     with open(filename, 'wb') as outp:  # Overwrites any existing file.\n",
    "#         pickle.dump(obj, outp, pickle.HIGHEST_PROTOCOL)\n",
    "\n",
    "# # sample usage\n",
    "# save_object(train_dataset, 'train_cvrp_v3_12800.pkl')"
   ]
  },
  {
   "cell_type": "code",
   "execution_count": 9,
   "metadata": {
    "id": "nKIyRgDKLZAS"
   },
   "outputs": [],
   "source": [
    "# val_dataset = problem.make_dataset(\n",
    "#         'data/vrp/dataset_test_2.pkl', size=21, num_samples=1000\n",
    "#     )"
   ]
  },
  {
   "cell_type": "code",
   "execution_count": 10,
   "metadata": {
    "id": "LFDQrQBXLZAU"
   },
   "outputs": [],
   "source": [
    "# save_object(val_dataset, 'val_cvrp_v5_1000.pkl')"
   ]
  },
  {
   "cell_type": "code",
   "execution_count": 11,
   "metadata": {
    "colab": {
     "base_uri": "https://localhost:8080/"
    },
    "id": "rWxnqyjnLZAV",
    "outputId": "5b9ee28c-a393-4240-9e9e-787467ce9d05"
   },
   "outputs": [
    {
     "data": {
      "text/plain": [
       "torch.Size([20])"
      ]
     },
     "execution_count": 11,
     "metadata": {},
     "output_type": "execute_result"
    }
   ],
   "source": [
    "train_example = train_dataset[1]\n",
    "train_example['demand'].shape"
   ]
  },
  {
   "cell_type": "code",
   "execution_count": 12,
   "metadata": {
    "colab": {
     "base_uri": "https://localhost:8080/"
    },
    "id": "5SMSShMpLZAX",
    "outputId": "18abafcb-04f4-4357-fc2d-3aad28d3b5e1"
   },
   "outputs": [
    {
     "data": {
      "text/plain": [
       "26"
      ]
     },
     "execution_count": 12,
     "metadata": {},
     "output_type": "execute_result"
    }
   ],
   "source": [
    "len(train_example['tour_nodes'])"
   ]
  },
  {
   "cell_type": "markdown",
   "metadata": {
    "id": "SwmH6UruV9xo"
   },
   "source": []
  },
  {
   "cell_type": "code",
   "execution_count": 13,
   "metadata": {
    "id": "78TGBkn3LZAZ"
   },
   "outputs": [],
   "source": [
    "def edges(adj):\n",
    "\n",
    "    for i, neighbors in enumerate(adj):\n",
    "        for j, v in enumerate(neighbors):\n",
    "            if v:\n",
    "                yield (i, j)"
   ]
  },
  {
   "cell_type": "code",
   "execution_count": 14,
   "metadata": {
    "colab": {
     "base_uri": "https://localhost:8080/",
     "height": 373
    },
    "id": "39-KTS0pLZAa",
    "outputId": "74827a50-9781-41b0-e7c9-974f9b6546c5"
   },
   "outputs": [
    {
     "data": {
      "image/png": "[encoded data removed]",
      "text/plain": [
       "<Figure size 576x432 with 1 Axes>"
      ]
     },
     "metadata": {},
     "output_type": "display_data"
    }
   ],
   "source": [
    "all_loc = np.concatenate((np.array(train_example['depot']).reshape(1, -1), np.array(train_example['loc'])), 0)\n",
    "dist_matrix = squareform(pdist(all_loc))\n",
    "G = nx.from_numpy_array(1-train_example['graph'].numpy())\n",
    "G.remove_edges_from(nx.selfloop_edges(G))\n",
    "pos = {i: coord for i, coord in enumerate(all_loc)}\n",
    "# tour = train_example['tour_edges'].nonzero().numpy()\n",
    "tour = [i for i in edges(train_example['adj'])]\n",
    "plt.figure(figsize=(8, 6))\n",
    "nx.draw_networkx_nodes(G, pos=pos, node_size=100)\n",
    "nx.draw_networkx_edges(G, pos=pos, alpha=0.2)\n",
    "nx.draw_networkx_edges(G, pos=pos, width=2, edgelist=tour, )\n",
    "# tour = train_example['tour_nodes'].numpy()\n",
    "# tour = np.append(tour, tour[0])\n",
    "cost = train_example['total_dist']\n",
    "plt.title(f'Label tour, total cost: {cost:.0f}')\n",
    "plt.axis('off')\n",
    "plt.show()"
   ]
  },
  {
   "cell_type": "code",
   "execution_count": 15,
   "metadata": {
    "colab": {
     "base_uri": "https://localhost:8080/"
    },
    "id": "2oaN2aOuLZAb",
    "outputId": "e74315e8-da4b-4112-b4f6-f0dcb554bf5d"
   },
   "outputs": [
    {
     "data": {
      "text/plain": [
       "AttentionModel(\n",
       "  (init_embed_depot): Linear(in_features=2, out_features=100, bias=True)\n",
       "  (init_embed): Linear(in_features=3, out_features=100, bias=True)\n",
       "  (embedder): GNNEncoder(\n",
       "    (init_embed_edges): Embedding(3, 100)\n",
       "    (layers): ModuleList(\n",
       "      (0): GNNLayer(\n",
       "        (U): Linear(in_features=100, out_features=100, bias=True)\n",
       "        (V): Linear(in_features=100, out_features=100, bias=True)\n",
       "        (A): Linear(in_features=100, out_features=100, bias=True)\n",
       "        (B): Linear(in_features=100, out_features=100, bias=True)\n",
       "        (C): Linear(in_features=100, out_features=100, bias=True)\n",
       "        (norm_h): BatchNorm1d(100, eps=1e-05, momentum=0.1, affine=True, track_running_stats=False)\n",
       "        (norm_e): BatchNorm1d(100, eps=1e-05, momentum=0.1, affine=True, track_running_stats=False)\n",
       "      )\n",
       "    )\n",
       "  )\n",
       "  (project_node_embeddings): Linear(in_features=100, out_features=300, bias=False)\n",
       "  (project_fixed_context): Linear(in_features=100, out_features=100, bias=False)\n",
       "  (project_step_context): Linear(in_features=101, out_features=100, bias=False)\n",
       "  (project_out): Linear(in_features=100, out_features=100, bias=False)\n",
       ")"
      ]
     },
     "execution_count": 15,
     "metadata": {},
     "output_type": "execute_result"
    }
   ],
   "source": [
    "from nets.attention_model import AttentionModel\n",
    "# model = NARModel(\n",
    "#     problem=load_problem('cvrp'),\n",
    "#     embedding_dim=100,\n",
    "#     encoder_class=GNNEncoder,\n",
    "#     n_encode_layers=3,\n",
    "#     aggregation='max',\n",
    "#     aggregation_graph='mean',\n",
    "#     normalization='batch',\n",
    "#     beam_size = 1\n",
    "# )\n",
    "model = AttentionModel(\n",
    "    problem=load_problem('cvrp'),\n",
    "    embedding_dim=100,\n",
    "    encoder_class=GNNEncoder,\n",
    "    n_encode_layers=1,\n",
    "    aggregation='max',\n",
    "    aggregation_graph='mean',\n",
    "    normalization='batch',\n",
    "    n_heads = 4,\n",
    "    decode_type = \"greedy\",\n",
    "    graph_mask = True\n",
    ")\n",
    "# model = pickle.load(open('/content/trained_models/vrp_solver1.sav', 'rb'))\n",
    "model.to('cpu')"
   ]
  },
  {
   "cell_type": "code",
   "execution_count": 16,
   "metadata": {
    "id": "IEICmj9OLZAc"
   },
   "outputs": [],
   "source": [
    "optimizer = optim.Adam(params=model.parameters(), lr=0.0005)"
   ]
  },
  {
   "cell_type": "code",
   "execution_count": 17,
   "metadata": {
    "id": "n5c_lqJSLZAc",
    "scrolled": true
   },
   "outputs": [
    {
     "name": "stderr",
     "output_type": "stream",
     "text": [
      "\r",
      "  0%|                                                                                          | 0/100 [00:00<?, ?it/s]"
     ]
    },
    {
     "name": "stdout",
     "output_type": "stream",
     "text": [
      "\n",
      "Start train epoch 0, lr=0.0005 for run train\n"
     ]
    },
    {
     "name": "stderr",
     "output_type": "stream",
     "text": [
      "\r",
      "  1%|8                                                                                 | 1/100 [00:00<01:15,  1.32it/s]"
     ]
    },
    {
     "name": "stdout",
     "output_type": "stream",
     "text": [
      "\n",
      "epoch: 0, train_batch_id: 0, loss: 39583356.0, avg_cost: 6.857487678527832\n",
      "grad_norm: 1.2909035682678223, clipped: 1\n"
     ]
    },
    {
     "name": "stderr",
     "output_type": "stream",
     "text": [
      "100%|################################################################################| 100/100 [01:13<00:00,  1.36it/s]\n",
      "  0%|                                                                                           | 0/10 [00:00<?, ?it/s]"
     ]
    },
    {
     "name": "stdout",
     "output_type": "stream",
     "text": [
      "Finished epoch 0, took 00:01:13 s\n",
      "Saving model and state...\n"
     ]
    },
    {
     "name": "stderr",
     "output_type": "stream",
     "text": [
      "100%|██████████████████████████████████████████████████████████████████████████████████| 10/10 [08:47<00:00, 52.75s/it]"
     ]
    },
    {
     "name": "stdout",
     "output_type": "stream",
     "text": [
      "Validation groundtruth cost: 7.623 +- 0.853\n",
      "Validation average cost: 9.322 +- 1.332\n",
      "Validation optimality gap: 22.521% +- 13.230\n"
     ]
    },
    {
     "name": "stderr",
     "output_type": "stream",
     "text": [
      "\n"
     ]
    }
   ],
   "source": [
    "class option():\n",
    "    def __init__(self):\n",
    "        self.run_name = 'train'\n",
    "        self.epoch_size = 10000\n",
    "        self.batch_size = 100\n",
    "        self.no_tensorboard = True\n",
    "        self.num_workers = 0\n",
    "        self.no_progress_bar = False\n",
    "        self.device = 'cpu'\n",
    "        self.model = 'ar'\n",
    "        self.accumulation_steps = 8\n",
    "        self.max_grad_norm = 1\n",
    "        self.log_step = 100\n",
    "        self.checkpoint_epochs = 0\n",
    "        self.n_epochs = 1\n",
    "        self.save_dir = \"\"\n",
    "opt = option()\n",
    "\n",
    "for epoch in range(opt.n_epochs):\n",
    "    train_epoch_sl(\n",
    "        model,\n",
    "        optimizer,\n",
    "        optim.lr_scheduler.LambdaLR(optimizer, lambda epoch: 1.0 ** epoch),\n",
    "        epoch,\n",
    "        train_dataset,\n",
    "        [val_dataset],\n",
    "        problem,\n",
    "        None,\n",
    "        opt\n",
    "    )"
   ]
  },
  {
   "cell_type": "code",
   "execution_count": 26,
   "metadata": {},
   "outputs": [],
   "source": [
    "from torch.utils.data import DataLoader, RandomSampler\n",
    "loader = DataLoader(val_dataset, batch_size=opt.batch_size, shuffle=False, num_workers=opt.num_workers)"
   ]
  },
  {
   "cell_type": "code",
   "execution_count": 27,
   "metadata": {},
   "outputs": [],
   "source": [
    "for i, bat in enumerate(loader):\n",
    "    if i == 7:\n",
    "        break"
   ]
  },
  {
   "cell_type": "code",
   "execution_count": 28,
   "metadata": {},
   "outputs": [],
   "source": [
    "opts = opt"
   ]
  },
  {
   "cell_type": "code",
   "execution_count": 29,
   "metadata": {},
   "outputs": [],
   "source": [
    "from utils.functions import move_to\n",
    "\n",
    "add_depot_demand = torch.cat((torch.zeros([bat['demand'].size()[0], 1]), bat['demand']), 1)\n",
    "add_depot_loc = torch.cat((bat['depot'][:, None], bat['loc']), 1)\n",
    "pre_x = torch.cat((add_depot_loc, add_depot_demand[:, :, None]), 2)\n",
    "if opts.model == 'nar':\n",
    "    x = move_to(pre_x, opts.device)\n",
    "else:\n",
    "    x = move_to(bat, opts.device)\n",
    "car_num = (bat['tour_nodes'][0] == 0).sum().item() - 1\n",
    "\n",
    "#             all_loc = np.concatenate((np.array(bat['depot']).reshape(1, -1), np.array(bat['loc'])), 0)\n",
    "#             bat_all = torch.tensor(np.concatenate((all_loc, all_demand), 1), dtype=torch.float)\n",
    "# cost, _ = model(move_to(x, opts.device), move_to(bat['graph'].type(torch.int64), opts.device), car_num)"
   ]
  },
  {
   "cell_type": "code",
   "execution_count": 30,
   "metadata": {},
   "outputs": [],
   "source": [
    "nodes = x"
   ]
  },
  {
   "cell_type": "code",
   "execution_count": 31,
   "metadata": {},
   "outputs": [],
   "source": [
    "graph = bat['graph']"
   ]
  },
  {
   "cell_type": "code",
   "execution_count": 32,
   "metadata": {},
   "outputs": [],
   "source": [
    "embeddings = model.embedder(model._init_embed(nodes), graph)\n",
    "# _log_p, pi = model._inner(nodes, graph, embeddings)\n",
    "\n",
    "# # Get predicted costs\n",
    "# cost, mask = model.problem.get_costs(nodes, pi)\n",
    "\n",
    "# # Log likelihood is calculated within the model since \n",
    "# # returning it per action does not work well with DataParallel \n",
    "# # (since sequences can be of different lengths)\n",
    "# ll = model._calc_log_likelihood(_log_p, pi, mask)"
   ]
  },
  {
   "cell_type": "code",
   "execution_count": 388,
   "metadata": {},
   "outputs": [],
   "source": [
    "self = model\n",
    "outputs = []\n",
    "sequences = []\n",
    "supervised = False\n",
    "# Create problem state for masking (tracks which nodes have been visited)\n",
    "state = self.problem.make_state(nodes, graph)\n",
    "\n",
    "# Compute keys, values for the glimpse and keys for the logits for reuse\n",
    "fixed = self._precompute(embeddings)\n",
    "\n",
    "batch_size, num_nodes, _ = nodes['loc'].shape\n",
    "\n",
    "# sequences.append(torch.zeros(batch_size).type(torch.int64))\n",
    "\n",
    "# Perform decoding steps\n",
    "i = 0"
   ]
  },
  {
   "cell_type": "code",
   "execution_count": 389,
   "metadata": {},
   "outputs": [
    {
     "name": "stdout",
     "output_type": "stream",
     "text": [
      "tensor([[1, 0, 0, 0, 0, 0, 0, 0, 0, 0, 0, 0, 0, 0, 0, 0, 0, 0, 0, 0, 0]])\n",
      "tensor([[0, 0, 0, 0, 0, 0, 0, 0, 0, 0, 0, 0, 0, 0, 0, 0, 0, 1, 0, 0, 0]])\n",
      "tensor([[0, 0, 0, 0, 0, 0, 0, 0, 0, 0, 0, 0, 0, 0, 0, 1, 0, 1, 0, 0, 0]])\n",
      "tensor([[0, 0, 0, 0, 0, 0, 0, 0, 1, 0, 0, 0, 0, 0, 0, 1, 0, 1, 0, 0, 0]])\n",
      "tensor([[0, 0, 0, 0, 0, 0, 0, 0, 1, 0, 0, 1, 0, 0, 0, 1, 0, 1, 0, 0, 0]])\n",
      "tensor([[0, 1, 0, 0, 1, 0, 1, 1, 1, 0, 1, 1, 0, 1, 0, 1, 0, 1, 0, 0, 1]])\n",
      "tensor([[0, 1, 0, 0, 1, 0, 1, 1, 1, 0, 1, 1, 1, 1, 0, 1, 0, 1, 0, 0, 1]])\n",
      "tensor([[0, 1, 0, 1, 1, 1, 1, 1, 1, 1, 1, 1, 1, 1, 0, 1, 1, 1, 1, 0, 1]])\n",
      "tensor([[0, 1, 1, 1, 1, 1, 1, 1, 1, 1, 1, 1, 1, 1, 1, 1, 1, 1, 1, 1, 1]])\n",
      "tensor([[1, 1, 1, 0, 0, 1, 0, 0, 1, 0, 0, 1, 1, 0, 0, 1, 0, 1, 0, 0, 0]])\n",
      "tensor([[0, 1, 1, 0, 0, 1, 1, 0, 1, 0, 0, 1, 1, 0, 0, 1, 0, 1, 0, 0, 0]])\n",
      "tensor([[0, 1, 1, 0, 1, 1, 1, 0, 1, 0, 0, 1, 1, 0, 0, 1, 0, 1, 0, 0, 0]])\n",
      "tensor([[0, 1, 1, 0, 1, 1, 1, 0, 1, 0, 0, 1, 1, 0, 1, 1, 0, 1, 0, 0, 0]])\n",
      "tensor([[0, 1, 1, 0, 1, 1, 1, 0, 1, 0, 0, 1, 1, 0, 1, 1, 0, 1, 1, 0, 0]])\n",
      "tensor([[0, 1, 1, 0, 1, 1, 1, 1, 1, 0, 1, 1, 1, 1, 1, 1, 0, 1, 1, 0, 1]])\n",
      "tensor([[0, 1, 1, 0, 1, 1, 1, 1, 1, 0, 1, 1, 1, 1, 1, 1, 0, 1, 1, 1, 1]])\n",
      "tensor([[0, 1, 1, 1, 1, 1, 1, 1, 1, 1, 1, 1, 1, 1, 1, 1, 1, 1, 1, 1, 1]])\n",
      "tensor([[1, 1, 1, 0, 1, 1, 1, 0, 1, 1, 0, 1, 1, 1, 1, 1, 0, 1, 1, 1, 0]])\n",
      "tensor([[0, 1, 1, 1, 1, 1, 1, 0, 1, 1, 0, 1, 1, 1, 1, 1, 0, 1, 1, 1, 0]])\n",
      "tensor([[0, 1, 1, 1, 1, 1, 1, 1, 1, 1, 0, 1, 1, 1, 1, 1, 0, 1, 1, 1, 0]])\n",
      "tensor([[0, 1, 1, 1, 1, 1, 1, 1, 1, 1, 0, 1, 1, 1, 1, 1, 0, 1, 1, 1, 1]])\n",
      "tensor([[0, 1, 1, 1, 1, 1, 1, 1, 1, 1, 1, 1, 1, 1, 1, 1, 0, 1, 1, 1, 1]])\n",
      "tensor([[0, 1, 1, 1, 1, 1, 1, 1, 1, 1, 1, 1, 1, 1, 1, 1, 1, 1, 1, 1, 1]])\n",
      "tensor([[0, 1, 1, 1, 1, 1, 1, 1, 1, 1, 1, 1, 1, 1, 1, 1, 1, 1, 1, 1, 1]])\n"
     ]
    }
   ],
   "source": [
    "while not (self.shrink_size is None and state.all_finished()):\n",
    "\n",
    "    if self.shrink_size is not None:\n",
    "        unfinished = torch.nonzero(state.get_finished() == 0)\n",
    "        if len(unfinished) == 0:\n",
    "            break\n",
    "        unfinished = unfinished[:, 0]\n",
    "        # Check if we can shrink by at least shrink_size and if this leaves at least 16\n",
    "        # (otherwise batch norm will not work well and it is inefficient anyway)\n",
    "        if 16 <= len(unfinished) <= state.ids.size(0) - self.shrink_size:\n",
    "            # Filter states\n",
    "            state = state[unfinished]\n",
    "            fixed = fixed[unfinished]\n",
    "\n",
    "    # Get log probabilities of next action\n",
    "    log_p, mask = self._get_log_p(fixed, state)\n",
    "    \n",
    "    cap_mask = (1 - state.demand * mask.type(torch.int64)[:, :, 1:].squeeze(1) - state.used_capacity) < 0\n",
    "    depot_mask = (cap_mask).sum(1) < cap_mask.size(1)*0.8\n",
    "    cap_mask_upd = torch.cat((depot_mask[:, None], cap_mask), 1)\n",
    "    total_mask = torch.logical_or(mask[:, 0, :], cap_mask_upd)\n",
    "    total_depot = (total_mask).sum(1) < cap_mask.size(1)*0.8\n",
    "    total_mask[:, 0] =  torch.logical_and(total_mask[:, 0], total_depot)\n",
    "    \n",
    "    # Select the indices of the next nodes in the sequences\n",
    "    if self.problem.NAME == 'cvrp' and supervised:\n",
    "        # Teacher-forcing during training in supervised mode\n",
    "        t_idx = torch.LongTensor([i]).to(nodes['loc'].device)\n",
    "        selected = targets.index_select(dim=-1, index=t_idx).view(batch_size)\n",
    "\n",
    "    else:\n",
    "        probs = log_p.exp()[:, 0, :]*(1 - cap_mask_upd.type(torch.int64))\n",
    "        probs[: , 0] += 0.0001\n",
    "        selected = self._select_node(\n",
    "            probs, total_mask)  # Squeeze out steps dimension\n",
    "\n",
    "    # Update problem state\n",
    "    state = state.update(selected)\n",
    "\n",
    "    # Make log_p, selected desired output size by 'unshrinking'\n",
    "    if self.shrink_size is not None and state.ids.size(0) < batch_size:\n",
    "        log_p_, selected_ = log_p, selected\n",
    "        log_p = log_p_.new_zeros(batch_size, *log_p_.size()[1:])\n",
    "        selected = selected_.new_zeros(batch_size)\n",
    "\n",
    "        log_p[state.ids[:, 0]] = log_p_\n",
    "        selected[state.ids[:, 0]] = selected_\n",
    "\n",
    "    # Collect output of step\n",
    "    outputs.append(log_p[:, 0, :])\n",
    "    sequences.append(selected)\n",
    "    \n",
    "    i += 1"
   ]
  },
  {
   "cell_type": "code",
   "execution_count": 26,
   "metadata": {},
   "outputs": [],
   "source": [
    "model.decode_type = \"greedy\""
   ]
  },
  {
   "cell_type": "code",
   "execution_count": null,
   "metadata": {},
   "outputs": [],
   "source": [
    "class_weights = None\n",
    "targets = bat['tour_nodes'].long()\n",
    "x = bat\n",
    "graph = bat['graph']\n",
    "car_num = (bat['tour_nodes'][0] == 0).sum().item() - 1\n",
    "\n",
    "# Evaluate model, get costs and loss\n",
    "cost, loss = model(x, graph, car_num, supervised=True, targets=targets, class_weights=class_weights)"
   ]
  },
  {
   "cell_type": "code",
   "execution_count": null,
   "metadata": {},
   "outputs": [],
   "source": [
    "embeddings = model.embedder(model._init_embed(x), graph)"
   ]
  },
  {
   "cell_type": "code",
   "execution_count": null,
   "metadata": {},
   "outputs": [],
   "source": [
    "_log_p, pi = model._inner(x, graph, embeddings, supervised=True, targets=targets)"
   ]
  },
  {
   "cell_type": "code",
   "execution_count": null,
   "metadata": {},
   "outputs": [],
   "source": [
    "pi"
   ]
  },
  {
   "cell_type": "code",
   "execution_count": null,
   "metadata": {},
   "outputs": [],
   "source": [
    "targets[0]"
   ]
  },
  {
   "cell_type": "code",
   "execution_count": null,
   "metadata": {},
   "outputs": [],
   "source": [
    "pi[0]"
   ]
  },
  {
   "cell_type": "code",
   "execution_count": null,
   "metadata": {},
   "outputs": [],
   "source": [
    "add_depot_demand = torch.cat((torch.zeros([bat['demand'].size()[0], 1]), bat['demand']), 1)\n",
    "add_depot_loc = torch.cat((bat['depot'][:, None], bat['loc']), 1)\n",
    "x = bat\n",
    "car_num = np.int((bat['tour_nodes'] == 0).sum(1).max() - 1)"
   ]
  },
  {
   "cell_type": "code",
   "execution_count": null,
   "metadata": {},
   "outputs": [],
   "source": [
    "self = model\n",
    "nodes = x\n",
    "graph = bat['graph'].type(torch.int64)\n",
    "\"\"\"Method to perform graph search (beam search or greedy search)\n",
    "\n",
    "Args:\n",
    "    nodes: Input graph nodes (B x V x 2)\n",
    "    graph: Graph as **NEGATIVE** adjacency matrices (B x V x V)\n",
    "    beam_size: Beam search width (=1 to enable greedy search)\n",
    "\n",
    "Returns:\n",
    "    logits, log_p: Outputs of inner function\n",
    "    pi: Tour sequence for shortest out of `beam_size` candidate tours\n",
    "    cost: Tour length for shortest out of `beam_size` candidate tours\n",
    "\"\"\"\n",
    "batch_size, num_nodes, _ = nodes['loc'].shape\n",
    "\n",
    "Compute logits\n",
    "logits, log_p = self._inner(nodes, graph)"
   ]
  },
  {
   "cell_type": "code",
   "execution_count": null,
   "metadata": {},
   "outputs": [],
   "source": [
    "import pickle\n",
    "with open('logits_save_GNN_1.pkl', 'rb') as f:\n",
    "    logits = pickle.load(f)\n",
    "with open('log_p_GNN_1.pkl', 'rb') as f:\n",
    "    log_p = pickle.load(f)    \n",
    "    "
   ]
  },
  {
   "cell_type": "code",
   "execution_count": null,
   "metadata": {},
   "outputs": [],
   "source": [
    "from utils.nar_beam_search import Beamsearch\n",
    "from tqdm.notebook import tqdm\n",
    "with torch.no_grad():\n",
    "    demand = nodes[:, :, 2]\n",
    "    car_num = 5\n",
    "    beam_size = 100\n",
    "    _log_p = log_p.clone().detach()[:, :, :, 1]\n",
    "    _log_p[_log_p == 0] = -1e-10  # Set 0s (i.e. log(1)s) to very small negative number\n",
    "\n",
    "    beamsearch = Beamsearch(beam_size, batch_size, num_nodes, car_num, device=_log_p.device, decode_type='cpu')\n",
    "    trans_probs = _log_p.gather(1, beamsearch.get_current_state())\n",
    "    for step inrange(num_nodes - 1 + car_num - 1)):\n",
    "        beamsearch.advance(trans_probs, demand, step)\n",
    "        trans_probs = _log_p.gather(1, beamsearch.get_current_state())\n",
    "\n",
    "    # Find TSP tour with highest probability among beam_size candidates\n",
    "    ends = torch.zeros(batch_size, 1, device=_log_p.device)\n",
    "    pi = beamsearch.get_hypothesis(ends)"
   ]
  },
  {
   "cell_type": "code",
   "execution_count": null,
   "metadata": {},
   "outputs": [],
   "source": [
    "pi"
   ]
  },
  {
   "cell_type": "code",
   "execution_count": null,
   "metadata": {},
   "outputs": [],
   "source": [
    "# import pickle\n",
    "# def save_object(obj, filename):\n",
    "#     with open(filename, 'wb') as outp:  # Overwrites any existing file.\n",
    "#         pickle.dump(obj, outp, pickle.HIGHEST_PROTOCOL)\n",
    "\n",
    "# # sample usage\n",
    "# save_object(logits, 'logits_save_GNN_1.pkl')"
   ]
  },
  {
   "cell_type": "code",
   "execution_count": null,
   "metadata": {},
   "outputs": [],
   "source": [
    "# save_object(log_p, 'log_p_GNN_1.pkl')"
   ]
  },
  {
   "cell_type": "code",
   "execution_count": null,
   "metadata": {},
   "outputs": [],
   "source": [
    "beamsearch.mask[:, :, 0][(beamsearch.mask[:, :, 0] != 1e20).nonzero(as_tuple=True)] = 3"
   ]
  },
  {
   "cell_type": "code",
   "execution_count": null,
   "metadata": {},
   "outputs": [],
   "source": [
    "beamsearch.mask"
   ]
  },
  {
   "cell_type": "code",
   "execution_count": null,
   "metadata": {},
   "outputs": [],
   "source": [
    "self.mask[:, :, 0][(self.zero_num >= self.car_num).nonzero(as_tuple=True)] = 1e10"
   ]
  },
  {
   "cell_type": "code",
   "execution_count": null,
   "metadata": {},
   "outputs": [],
   "source": [
    "def advance(self, trans_probs, demand, step):\n",
    "    \"\"\"Advances the beam based on transition probabilities.\n",
    "    Args:\n",
    "        trans_probs: Probabilities of advancing from the previous step (batch_size, beam_size, num_nodes)\n",
    "        nodes: locations+demands of nodes\n",
    "    \"\"\"\n",
    "    # Compound the previous scores\n",
    "    if len(self.prev_Ks) > 0:\n",
    "        beam_lk = trans_probs + self.scores.unsqueeze(2).expand_as(trans_probs)\n",
    "    else:\n",
    "        beam_lk = trans_probs\n",
    "        beam_lk[:, 1:] = -1e20 * torch.ones(beam_lk[:, 1:].size(), dtype=torch.float).to(self.device)\n",
    "    # Multiply by mask\n",
    "    self.mask[:, :, 0] = 5\n",
    "    self.mask[self.mask == 0] = 1e20\n",
    "#     self.mask[:, :, 0][(self.mask[:, :, 0] != 1e20).nonzero(as_tuple=True)] = 3\n",
    "    \n",
    "    current_demand = torch.zeros(batch_size, beam_size)\n",
    "    \n",
    "#     Suggest only possible variants by capacities\n",
    "    if len(self.prev_Ks) > 0:\n",
    "        for pos in tqdm(range(0, beam_size)):\n",
    "            ends = pos * torch.ones(batch_size, 1).to(self.device) \n",
    "            hyp_tours = self.get_hypothesis(ends)\n",
    "            for idx in range(batch_size):\n",
    "                current_demand[idx, pos] = demand[idx][(array_separator(hyp_tours[idx][:step+1])[-1])].sum()\n",
    "                if idx == 17 and pos == 0:\n",
    "                    print((array_separator(hyp_tours[idx][:step+1])[-1]))\n",
    "                    print(current_demand[idx, pos])\n",
    "    #     self.mask[:, :, 0][(self.zero_num >= self.car_num).nonzero(as_tuple=True)] = 1e10\n",
    "\n",
    "        # Check the nodes that will overdemand vehicles in the next step\n",
    "        full_future_nodes = (1 - current_demand[:, :, None].expand([batch_size, beam_size, num_nodes]) - demand[:, None].expand([batch_size, beam_size, num_nodes])) < 0\n",
    "        temp_mask = torch.ones(self.mask.size()) + full_future_nodes.type(torch.int64)*1e20\n",
    "    else:\n",
    "        temp_mask = torch.ones(self.mask.size())\n",
    "    print((self.mask* temp_mask)[17][0].type(torch.int64))\n",
    "    beam_lk = beam_lk * self.mask * temp_mask\n",
    "    beam_lk = beam_lk.view(self.batch_size, -1)  # (batch_size, beam_size * num_nodes)\n",
    "    # Get top k scores and indexes (k = beam_size)\n",
    "    bestScores, bestScoresId = beam_lk.topk(self.beam_size, 1, True, True)\n",
    "    # Update scores\n",
    "    self.scores = bestScores\n",
    "    # Update backpointers\n",
    "    prev_k = bestScoresId // self.num_nodes\n",
    "    self.prev_Ks.append(prev_k)\n",
    "    # Update outputs\n",
    "    new_nodes = bestScoresId - prev_k * self.num_nodes\n",
    "    self.next_nodes.append(new_nodes)\n",
    "    # Update capacities\n",
    "    new_demand = demand[:, None].expand([batch_size, beam_size, num_nodes]).gather(2, self.next_nodes[-1][:, :, None]).reshape(batch_size, beam_size)\n",
    "    # If demand is zero that means return to depot, so we have to zero current capacity of the vechicle\n",
    "    self.curr_cap = self.curr_cap * (new_demand != 0).type(torch.int64) + new_demand\n",
    "    # Update depot counter\n",
    "    self.zero_num[(new_nodes == 0)] += 1\n",
    "    # Re-index mask\n",
    "    perm_mask = prev_k.unsqueeze(2).expand_as(self.mask)  # (batch_size, beam_size, num_nodes)\n",
    "    self.mask = self.mask.gather(1, perm_mask)\n",
    "    # Mask newly added nodes\n",
    "    self.update_mask(new_nodes, demand)"
   ]
  },
  {
   "cell_type": "code",
   "execution_count": null,
   "metadata": {},
   "outputs": [],
   "source": [
    "self.mask.size()"
   ]
  },
  {
   "cell_type": "code",
   "execution_count": null,
   "metadata": {},
   "outputs": [],
   "source": [
    "from utils.nar_beam_search import Beamsearch\n",
    "from tqdm.notebook import tqdm\n",
    "demand = nodes[:, :, 2]\n",
    "car_num = 5\n",
    "with torch.no_grad():\n",
    "    _log_p = log_p.clone().detach()[:, :, :, 1]\n",
    "    _log_p[_log_p == 0] = -1e-10  # Set 0s (i.e. log(1)s) to very small negative number\n",
    "    from utils.nar_beam_search import Beamsearch\n",
    "    beam_size = 100\n",
    "    beamsearch = Beamsearch(beam_size, batch_size, num_nodes, car_num, device=_log_p.device, decode_type=\"greedy\")\n",
    "    beamsearch.zero_num = torch.ones(batch_size, beam_size, dtype=torch.int64).to('cpu')\n",
    "    trans_probs = _log_p.gather(1, beamsearch.get_current_state())\n",
    "    for step in tqdm(range(num_nodes - 1 + car_num - 1)):\n",
    "        advance(beamsearch, trans_probs, demand, step)\n",
    "        trans_probs = _log_p.gather(1, beamsearch.get_current_state())\n",
    "#         print(beamsearch.mask[0][0].type(torch.int64))\n",
    "    "
   ]
  },
  {
   "cell_type": "code",
   "execution_count": null,
   "metadata": {},
   "outputs": [],
   "source": []
  },
  {
   "cell_type": "code",
   "execution_count": null,
   "metadata": {},
   "outputs": [],
   "source": [
    "    self = beamsearch\n",
    "    # Compound the previous scores\n",
    "    if len(self.prev_Ks) > 0:\n",
    "        beam_lk = trans_probs + self.scores.unsqueeze(2).expand_as(trans_probs)\n",
    "    else:\n",
    "        beam_lk = trans_probs\n",
    "        beam_lk[:, 1:] = -1e20 * torch.ones(beam_lk[:, 1:].size(), dtype=torch.float).to(self.device)\n",
    "    # Multiply by mask\n",
    "#     self.mask[:, :, 0] = 3\n",
    "    self.mask[self.mask == 0] = 1e20\n",
    "    self.mask[:, :, 0][(self.mask[:, :, 0] != 1e20).nonzero(as_tuple=True)] = 3\n",
    "        \n",
    "    # Suggest only possible variants by capacities\n",
    "    current_demand = torch.zeros(batch_size, beam_size)\n",
    "    if len(beamsearch.prev_Ks) > 0:\n",
    "        for pos in tqdm(range(0, beam_size)):\n",
    "            ends = pos * torch.ones(batch_size, 1).to(beamsearch.device) \n",
    "            hyp_tours = beamsearch.get_hypothesis(ends)\n",
    "            for idx in range(batch_size):\n",
    "                current_demand[idx, pos] = demand[idx][(array_separator(hyp_tours[idx][:step+2])[-1])].sum()\n",
    "\n",
    "        # Check the nodes that will overdemand vehicles in the next step\n",
    "        full_future_nodes = (1 - current_demand[:, :, None].expand([batch_size, beam_size, num_nodes]) - demand[:, None].expand([batch_size, beam_size, num_nodes])) < 0\n",
    "        beamsearch.mask[full_future_nodes] = 1e20\n",
    "    \n",
    "    beam_lk = beam_lk * self.mask\n",
    "    beam_lk = beam_lk.view(self.batch_size, -1)  # (batch_size, beam_size * num_nodes)\n",
    "    # Get top k scores and indexes (k = beam_size)\n",
    "    bestScores, bestScoresId = beam_lk.topk(self.beam_size, 1, True, True)\n",
    "    # Update scores\n",
    "    self.scores = bestScores\n",
    "    # Update backpointers\n",
    "    prev_k = bestScoresId // self.num_nodes\n",
    "    self.prev_Ks.append(prev_k)\n",
    "    # Update outputs\n",
    "    new_nodes = bestScoresId - prev_k * self.num_nodes\n",
    "    self.next_nodes.append(new_nodes)\n",
    "    # Update capacities\n",
    "    new_demand = demand[:, None].expand([batch_size, beam_size, num_nodes]).gather(2, self.next_nodes[-1][:, :, None]).reshape(batch_size, beam_size)\n",
    "    # If demand is zero that means return to depot, so we have to zero current capacity of the vechicle\n",
    "    self.curr_cap = self.curr_cap * (new_demand != 0).type(torch.int64) + new_demand\n",
    "    # Update depot counter\n",
    "    self.zero_num[(new_nodes == 0)] += 1\n",
    "    # Re-index mask\n",
    "    perm_mask = prev_k.unsqueeze(2).expand_as(self.mask)  # (batch_size, beam_size, num_nodes)\n",
    "    self.mask = self.mask.gather(1, perm_mask)\n",
    "    # Mask newly added nodes\n",
    "    self.update_mask(new_nodes, demand)"
   ]
  },
  {
   "cell_type": "code",
   "execution_count": null,
   "metadata": {},
   "outputs": [],
   "source": [
    "beamsearch.get_current_state()[0]"
   ]
  },
  {
   "cell_type": "code",
   "execution_count": null,
   "metadata": {},
   "outputs": [],
   "source": [
    "current_demand = torch.zeros(batch_size, beam_size)\n",
    "if len(beamsearch.prev_Ks) > 0:\n",
    "    for pos in tqdm(range(0, beam_size)):\n",
    "        ends = pos * torch.ones(batch_size, 1).to(beamsearch.device) \n",
    "        hyp_tours = beamsearch.get_hypothesis(ends)\n",
    "        for idx in range(batch_size):\n",
    "            current_demand[idx, pos] = demand[idx][(array_separator(hyp_tours[idx][:step+2])[-1])].sum()\n",
    "\n",
    "    # Check the nodes that will overdemand vehicles in the next step\n",
    "    full_future_nodes = (1 - current_demand[:, :, None].expand([batch_size, beam_size, num_nodes]) - demand[:, None].expand([batch_size, beam_size, num_nodes])) < 0\n",
    "    beamsearch.mask[full_future_nodes] = 1e20"
   ]
  },
  {
   "cell_type": "code",
   "execution_count": null,
   "metadata": {},
   "outputs": [],
   "source": [
    "ends = torch.zeros(batch_size, 1, device=_log_p.device)\n",
    "shortest_tours = beamsearch.get_hypothesis(ends)"
   ]
  },
  {
   "cell_type": "code",
   "execution_count": null,
   "metadata": {},
   "outputs": [],
   "source": [
    "shortest_tours[17].data.sort()[0]"
   ]
  },
  {
   "cell_type": "code",
   "execution_count": null,
   "metadata": {},
   "outputs": [],
   "source": [
    "sorted_pi = shortest_tours.data.sort(1)[0]"
   ]
  },
  {
   "cell_type": "code",
   "execution_count": null,
   "metadata": {},
   "outputs": [],
   "source": [
    "(sorted_pi[:, -21:] == torch.arange(0, 21, out=sorted_pi.data.new()).view(1, -1).expand(batch_size, 21)).all()"
   ]
  },
  {
   "cell_type": "code",
   "execution_count": null,
   "metadata": {},
   "outputs": [],
   "source": [
    "(sorted_pi[:, -21:] == torch.arange(0, 21, out=sorted_pi.data.new()).view(1, -1).expand(batch_size, 21)).sum(1)"
   ]
  },
  {
   "cell_type": "code",
   "execution_count": null,
   "metadata": {},
   "outputs": [],
   "source": [
    "def array_separator(arr):\n",
    "    out = []\n",
    "    out_temp = [0]\n",
    "    for i in arr[1:]:\n",
    "        if i == 0:\n",
    "            if len(out_temp) != 1:\n",
    "                out_temp.append(0)\n",
    "                out.append(np.array(out_temp))\n",
    "            out_temp = [0]\n",
    "        else:\n",
    "            out_temp.append(i)\n",
    "    if len(out_temp) != 0:\n",
    "        out_temp.append(0)\n",
    "        out.append(np.array(out_temp)) \n",
    "    return np.array(out)\n",
    "\n",
    "def get_cost(tour, x):\n",
    "    dist_matrix = squareform(pdist(x[:, :2].numpy()))\n",
    "    dist_matrix[(range(dist_matrix.shape[0])), (range(dist_matrix.shape[0]))] = np.inf\n",
    "    dist_matrix_ = dist_matrix.copy()\n",
    "    dist_matrix_[(range(dist_matrix_.shape[0])), (range(dist_matrix_.shape[0]))] = 0\n",
    "    cost = dist_matrix_[tour[:-1], tour[1:]].sum()\n",
    "    return cost\n",
    "\n",
    "def is_valid_tour(tour, demand, car_num):\n",
    "    \n",
    "    \"\"\"Sanity check: tour visits all nodes given and cope with capasities\n",
    "    \"\"\"\n",
    "    graph_size = demand.size()[0]\n",
    "    # Check that tours are valid, i.e. contain 0 to n -1\n",
    "    sorted_pi = torch.sort(tour)[0]\n",
    "    # Sorting it should give all zeros at front and then 1...n\n",
    "\n",
    "    a_check = (torch.arange(0, graph_size) == sorted_pi[-graph_size:]).all()\n",
    "    b_check = (sorted_pi[:-graph_size] == 0).all()\n",
    "\n",
    "    # Visiting depot resets capacity so we add demand = -capacity (we make sure it does not become negative)\n",
    "    used_cap = []\n",
    "    for t in array_separator(tour):\n",
    "        used_cap.append(demand[t].sum())\n",
    "    \n",
    "    c_check = (np.array(used_cap) <= 1.0 + 1e-5).all()\n",
    "    d_check = len(used_cap) <= car_num\n",
    "    \n",
    "#     print(np.int(a_check), np.int(b_check), np.int(c_check), np.int(d_check))\n",
    "    return a_check and b_check and c_check and d_check\n",
    "            "
   ]
  },
  {
   "cell_type": "code",
   "execution_count": null,
   "metadata": {},
   "outputs": [],
   "source": [
    "for i in range(100):\n",
    "    print(is_valid_tour(shortest_tours[i], demand[i], 5))"
   ]
  },
  {
   "cell_type": "code",
   "execution_count": null,
   "metadata": {},
   "outputs": [],
   "source": []
  },
  {
   "cell_type": "code",
   "execution_count": null,
   "metadata": {},
   "outputs": [],
   "source": [
    "is_valid_tour(shortest_tours[14], demand[14], car_num)"
   ]
  },
  {
   "cell_type": "code",
   "execution_count": null,
   "metadata": {},
   "outputs": [],
   "source": [
    "# Compute current tour lengths\n",
    "shortest_lens = [1e6] * len(shortest_tours)\n",
    "for idx in range(len(shortest_tours)):\n",
    "    shortest_lens[idx] = get_cost(shortest_tours[idx].cpu(), graph[idx].cpu())\n",
    "    \n",
    "# Iterate over all positions in beam (except position 0 --> highest probability)\n",
    "for pos in tqdm(range(1, beam_size)):\n",
    "    ends = pos * torch.ones(batch_size, 1).to(beamsearch.device)  # New positions\n",
    "    hyp_tours = beamsearch.get_hypothesis(ends)\n",
    "    for idx in tqdm(range(len(hyp_tours))):\n",
    "        hyp_nodes = hyp_tours[idx].cpu()\n",
    "        hyp_len = get_cost(hyp_nodes, graph[idx].cpu())\n",
    "        # Replace tour in shortest_tours if new length is shorter than current best\n",
    "        if is_valid_tour(shortest_tours[idx], demand[idx], car_num):  \n",
    "            if hyp_len < shortest_lens[idx] and is_valid_tour(hyp_nodes, demand[idx], car_num):\n",
    "                shortest_tours[idx] = hyp_tours[idx]\n",
    "                shortest_lens[idx] = hyp_len\n",
    "        else:\n",
    "            if is_valid_tour(hyp_nodes, demand[idx], car_num):\n",
    "                shortest_tours[idx] = hyp_tours[idx]\n",
    "                shortest_lens[idx] = hyp_len"
   ]
  },
  {
   "cell_type": "code",
   "execution_count": null,
   "metadata": {},
   "outputs": [],
   "source": [
    "graph"
   ]
  },
  {
   "cell_type": "code",
   "execution_count": null,
   "metadata": {},
   "outputs": [],
   "source": [
    "shortest_tours\n",
    "sorted_pi = shortest_tours.data.sort(1)[0]\n",
    "(sorted_pi[:, -21:] == torch.arange(0, 21, out=sorted_pi.data.new()).view(1, -1).expand(batch_size, 21)).all()"
   ]
  },
  {
   "cell_type": "code",
   "execution_count": null,
   "metadata": {},
   "outputs": [],
   "source": [
    "k = ends.type(torch.long).to('cpu')\n",
    "hyp = -1 * torch.ones(beamsearch.batch_size, beamsearch.num_nodes + beamsearch.car_num - 1, dtype=torch.long).to('cpu')\n",
    "for j in range(len(beamsearch.prev_Ks) - 1, -2, -1):\n",
    "    hyp[:, j + 1] = beamsearch.next_nodes[j + 1].gather(1, k).view(1, beamsearch.batch_size)\n",
    "    k = beamsearch.prev_Ks[j].gather(1, k)"
   ]
  },
  {
   "cell_type": "code",
   "execution_count": null,
   "metadata": {},
   "outputs": [],
   "source": [
    "hyp.size()"
   ]
  },
  {
   "cell_type": "code",
   "execution_count": null,
   "metadata": {},
   "outputs": [],
   "source": [
    "j = 22"
   ]
  },
  {
   "cell_type": "code",
   "execution_count": null,
   "metadata": {},
   "outputs": [],
   "source": [
    "k"
   ]
  },
  {
   "cell_type": "code",
   "execution_count": null,
   "metadata": {},
   "outputs": [],
   "source": [
    "beamsearch.next_nodes[j + 1].gather(1, k)#.view(1, beamsearch.batch_size)"
   ]
  },
  {
   "cell_type": "code",
   "execution_count": null,
   "metadata": {},
   "outputs": [],
   "source": [
    "beamsearch.next_nodes[4][0][0]"
   ]
  },
  {
   "cell_type": "code",
   "execution_count": null,
   "metadata": {},
   "outputs": [],
   "source": [
    "beamsearch.prev_Ks"
   ]
  },
  {
   "cell_type": "code",
   "execution_count": null,
   "metadata": {},
   "outputs": [],
   "source": []
  },
  {
   "cell_type": "code",
   "execution_count": null,
   "metadata": {},
   "outputs": [],
   "source": [
    "beamsearch.prev_Ks[j]#.gather(1, k)"
   ]
  },
  {
   "cell_type": "code",
   "execution_count": null,
   "metadata": {},
   "outputs": [],
   "source": [
    "beamsearch.next_nodes[24]"
   ]
  },
  {
   "cell_type": "code",
   "execution_count": null,
   "metadata": {},
   "outputs": [],
   "source": [
    "beamsearch.next_nodes[j + 1].gather(1, k)"
   ]
  },
  {
   "cell_type": "code",
   "execution_count": null,
   "metadata": {},
   "outputs": [],
   "source": [
    "hyp"
   ]
  },
  {
   "cell_type": "code",
   "execution_count": null,
   "metadata": {},
   "outputs": [],
   "source": [
    "beamsearch.next_nodes[j + 1]"
   ]
  },
  {
   "cell_type": "code",
   "execution_count": null,
   "metadata": {},
   "outputs": [],
   "source": [
    "beamsearch.next_nodes[j + 1].gather(1, k).size()"
   ]
  },
  {
   "cell_type": "code",
   "execution_count": null,
   "metadata": {},
   "outputs": [],
   "source": [
    "hyp"
   ]
  },
  {
   "cell_type": "code",
   "execution_count": null,
   "metadata": {},
   "outputs": [],
   "source": [
    "k = ends.type(torch.long).to('cpu')\n",
    "hyp = -1 * torch.ones(beamsearch.batch_size, beamsearch.num_nodes + beamsearch.car_num - 1, dtype=torch.long).to('cpu')"
   ]
  },
  {
   "cell_type": "code",
   "execution_count": null,
   "metadata": {},
   "outputs": [],
   "source": [
    "for j in range(len(beamsearch.prev_Ks) - 1, -2, -1):\n",
    "    print(j)"
   ]
  },
  {
   "cell_type": "code",
   "execution_count": null,
   "metadata": {},
   "outputs": [],
   "source": [
    "k"
   ]
  },
  {
   "cell_type": "code",
   "execution_count": null,
   "metadata": {},
   "outputs": [],
   "source": [
    "beamsearch.next_nodes[24].gather(1, k).view(1, beamsearch.batch_size)"
   ]
  },
  {
   "cell_type": "code",
   "execution_count": null,
   "metadata": {},
   "outputs": [],
   "source": [
    "beamsearch.next_nodes"
   ]
  },
  {
   "cell_type": "code",
   "execution_count": null,
   "metadata": {},
   "outputs": [],
   "source": [
    "pi[0]"
   ]
  },
  {
   "cell_type": "code",
   "execution_count": null,
   "metadata": {},
   "outputs": [],
   "source": [
    "beamsearch.get_hypothesis(ends)"
   ]
  },
  {
   "cell_type": "code",
   "execution_count": null,
   "metadata": {},
   "outputs": [],
   "source": []
  },
  {
   "cell_type": "code",
   "execution_count": null,
   "metadata": {},
   "outputs": [],
   "source": []
  },
  {
   "cell_type": "code",
   "execution_count": null,
   "metadata": {},
   "outputs": [],
   "source": []
  },
  {
   "cell_type": "code",
   "execution_count": null,
   "metadata": {},
   "outputs": [],
   "source": [
    "import numpy as np\n",
    "import pandas as pd\n",
    "import requests\n",
    "\n",
    "def split(txt, seps):\n",
    "    default_sep = seps[0]\n",
    "    # we skip seps[0] because that's the default separator\n",
    "    for sep in seps[1:]:\n",
    "        txt = txt.replace(sep, default_sep)\n",
    "    return [i.strip() for i in txt.split(default_sep)]\n",
    "\n",
    "set_data = \"A\"\n",
    "model = \"A-n46-k7\"\n",
    "\n",
    "file = set_data + '/' + model + \".vrp\"\n",
    "res = requests.get('http://vrp.atd-lab.inf.puc-rio.br/media/com_vrp/instances/' + file)\n",
    "lines = res.text.split('\\n')\n",
    "solution = set_data + '/' + model + \".sol\"\n",
    "res = requests.get('http://vrp.atd-lab.inf.puc-rio.br/media/com_vrp/instances/' + solution)\n",
    "solution_lines = res.text.split('\\n')\n",
    "cap = np.int(lines[5][len('CAPACITY : '):])\n",
    "dim = np.int(lines[3][len('DIMENSION : '):])\n",
    "cars = np.int(model.split('-')[-1][1:])\n",
    "baseline = np.int(solution_lines[-2][len('Cost '):])\n",
    "SYMBOLS = '\\n'\n",
    "nodes = [item.translate(SYMBOLS).strip() for item in lines[7:7+dim]]\n",
    "demands = [item.translate(SYMBOLS).strip() for item in lines[7+dim+1:7+dim+1+dim]]\n",
    "for i in range(len(nodes)):\n",
    "    nodes[i] = split(nodes[i], (',', ' '))\n",
    "    demands[i] = split(demands[i], (',', ' '))\n",
    "df_nodes = pd.DataFrame(data = nodes, columns = ['id', 'latitude', 'longitude'])\n",
    "df_demands = pd.DataFrame(data = demands, columns = ['id', 'demand'])\n",
    "df = pd.merge(df_nodes, df_demands).drop('id', 1)\n",
    "df= df.astype(int)\n",
    "df['cap'] = cap\n",
    "df['cars'] = cars\n",
    "tour = []\n",
    "paths = {}\n",
    "car_index = 0\n",
    "for i in range(len(solution_lines)-2):\n",
    "    parse_solution = split(solution_lines[i], ' ')\n",
    "    new_tour = []\n",
    "    tour.append(0)\n",
    "    new_tour.append(0)\n",
    "    for j in range(len(parse_solution) - 2):\n",
    "        tour.append(np.int(parse_solution[j+2]))\n",
    "        new_tour.append(np.int(parse_solution[j+2]))\n",
    "    tour.append(0)\n",
    "    new_tour.append(0)\n",
    "    paths[car_index] = new_tour\n",
    "    car_index += 1"
   ]
  },
  {
   "cell_type": "code",
   "execution_count": null,
   "metadata": {},
   "outputs": [],
   "source": [
    "paths"
   ]
  },
  {
   "cell_type": "code",
   "execution_count": null,
   "metadata": {},
   "outputs": [],
   "source": [
    "len(parse_solution)"
   ]
  },
  {
   "cell_type": "code",
   "execution_count": null,
   "metadata": {},
   "outputs": [],
   "source": [
    "paths"
   ]
  },
  {
   "cell_type": "code",
   "execution_count": null,
   "metadata": {},
   "outputs": [],
   "source": [
    "split(solution_lines[i], ' ')"
   ]
  },
  {
   "cell_type": "code",
   "execution_count": null,
   "metadata": {},
   "outputs": [],
   "source": [
    "solution_lines"
   ]
  },
  {
   "cell_type": "code",
   "execution_count": null,
   "metadata": {},
   "outputs": [],
   "source": []
  },
  {
   "cell_type": "code",
   "execution_count": null,
   "metadata": {},
   "outputs": [],
   "source": [
    "get_instance_from_CVRPLIB(\"A\", \"A-n46-k7\")[1]"
   ]
  },
  {
   "cell_type": "code",
   "execution_count": 18,
   "metadata": {
    "id": "dibkOYC5Qks-"
   },
   "outputs": [],
   "source": [
    "cvrplib = False"
   ]
  },
  {
   "cell_type": "code",
   "execution_count": 114,
   "metadata": {
    "id": "l8EXqdrrLZAk"
   },
   "outputs": [],
   "source": [
    "if cvrplib:\n",
    "    from generator.parse_cvrplib import get_instance_from_CVRPLIB\n",
    "    from problems.vrp.problem_vrp import nearest_neighbor_graph\n",
    "\n",
    "    car_num = 7\n",
    "    test_df, test_tour, test_paths  = get_instance_from_CVRPLIB(\"A\", \"A-n46-k7\")\n",
    "    test_df['demand_norm'] = test_df['demand']/test_df['cap']\n",
    "    test_df['latitude_norm'] = test_df['latitude']/100\n",
    "    test_df['longitude_norm'] = test_df['longitude']/100\n",
    "    x = torch.tensor(test_df[['latitude_norm', 'longitude_norm']].values).type(torch.float)\n",
    "    df_x = torch.tensor(test_df[['latitude_norm', 'longitude_norm', 'demand_norm']].values).type(torch.float)\n",
    "    graph = torch.ByteTensor(nearest_neighbor_graph(x, neighbors = 0.2, knn_strat = 'percentage')).to('cpu') \n",
    "\n",
    "else:\n",
    "    car_num = 5\n",
    "    test_example = val_dataset[46]\n",
    "    with torch.no_grad():\n",
    "        add_depot_demand = torch.cat((torch.zeros(1), test_example['demand']), 0)\n",
    "        add_depot_loc = torch.cat((test_example['depot'][None, :], test_example['loc']), 0)\n",
    "        df_x = torch.cat((add_depot_loc, add_depot_demand[:, None]), 1)\n",
    "        x = test_example\n",
    "        graph = test_example['graph'].to('cpu')"
   ]
  },
  {
   "cell_type": "code",
   "execution_count": 115,
   "metadata": {
    "id": "IEHF__diLZAl"
   },
   "outputs": [],
   "source": [
    "dist_matrix = squareform(pdist(df_x[:, :2].numpy()))\n",
    "dist_matrix[(range(dist_matrix.shape[0])), (range(dist_matrix.shape[0]))] = np.inf"
   ]
  },
  {
   "cell_type": "markdown",
   "metadata": {
    "id": "nQv9H-DdJEX1"
   },
   "source": [
    "Make GNN prediction"
   ]
  },
  {
   "cell_type": "code",
   "execution_count": 116,
   "metadata": {
    "colab": {
     "base_uri": "https://localhost:8080/"
    },
    "id": "ABKsCXxNLZAl",
    "outputId": "b67768fb-d636-4c39-8de5-72cefceb517f"
   },
   "outputs": [
    {
     "data": {
      "text/plain": [
       "torch.Size([1, 21, 100])"
      ]
     },
     "execution_count": 116,
     "metadata": {},
     "output_type": "execute_result"
    }
   ],
   "source": [
    "# nodes = x[None, ...].to('cpu')\n",
    "graph_ = graph[None, ...].to('cpu')\n",
    "model.eval()\n",
    "with torch.no_grad():\n",
    "    embeddings = model.embedder(model._init_embed({'loc': df_x[1:, :2][None, :], 'demand' : df_x[1:, 2:].flatten()[None, :], 'depot': df_x[:1, :2]}), graph_)\n",
    "embeddings.shape"
   ]
  },
  {
   "cell_type": "code",
   "execution_count": 117,
   "metadata": {},
   "outputs": [],
   "source": [
    "nodes = {'loc': df_x[1:, :2][None, :], 'demand' : df_x[1:, 2:].flatten()[None, :], 'depot': df_x[:1, :2]}"
   ]
  },
  {
   "cell_type": "code",
   "execution_count": 118,
   "metadata": {},
   "outputs": [],
   "source": [
    " # Run inner function\n",
    "self = model\n",
    "_log_p, pi = self._inner(nodes, graph, embeddings)\n",
    "\n",
    "if self.extra_logging:\n",
    "    self.log_p_batch = _log_p\n",
    "    self.log_p_sel_batch = _log_p.gather(2, pi.unsqueeze(-1)).squeeze(-1)\n",
    "\n",
    "# Get predicted costs\n",
    "cost, mask = self.problem.get_costs(nodes, pi)\n",
    "\n",
    "# Log likelihood is calculated within the model since \n",
    "# returning it per action does not work well with DataParallel \n",
    "# (since sequences can be of different lengths)\n",
    "ll = self._calc_log_likelihood(_log_p, pi, mask)\n",
    "            "
   ]
  },
  {
   "cell_type": "code",
   "execution_count": 119,
   "metadata": {},
   "outputs": [],
   "source": [
    "# outputs = []\n",
    "# sequences = []\n",
    "# supervised = False\n",
    "# nodes = {'loc': df_x[1:, :2][None, :], 'demand' : df_x[1:, 2:].flatten()[None, :], 'depot': df_x[:1, :2]}\n",
    "# # Create problem state for masking (tracks which nodes have been visited)\n",
    "# state = model.problem.make_state(nodes, graph)\n",
    "\n",
    "# # Compute keys, values for the glimpse and keys for the logits for reuse\n",
    "# fixed = model._precompute(embeddings)\n",
    "\n",
    "# batch_size, num_nodes, _ = nodes['loc'].shape\n",
    "# # Perform decoding steps\n",
    "# i = 0\n",
    "# while not (state.all_finished()):\n",
    "#     # Get log probabilities of next action\n",
    "#     log_p, mask = model._get_log_p(fixed, state)\n",
    "\n",
    "#     # Select the indices of the next nodes in the sequences\n",
    "#     selected = model._select_node(\n",
    "#         log_p.exp()[:, 0, :], mask[:, 0, :])  # Squeeze out steps dimension\n",
    "    \n",
    "#     if i == 0:\n",
    "#         selected = torch.zeros(selected.size()).type(torch.int64)\n",
    "#         log_p = log_p * 0 - 1e10\n",
    "#     # Update problem state\n",
    "#     state = state.update(selected)\n",
    "    \n",
    "#     # Collect output of step\n",
    "#     outputs.append(log_p[:, 0, :])\n",
    "#     sequences.append(selected)\n",
    "\n",
    "#     i += 1\n",
    "\n",
    "# # Collected lists, return Tensor\n"
   ]
  },
  {
   "cell_type": "code",
   "execution_count": 120,
   "metadata": {
    "colab": {
     "base_uri": "https://localhost:8080/"
    },
    "id": "6KG2gQPkLZAl",
    "outputId": "e8b9afd8-2a8f-4854-a23b-6d357194e682"
   },
   "outputs": [
    {
     "ename": "ModuleAttributeError",
     "evalue": "'AttentionModel' object has no attribute 'project_node_emb'",
     "output_type": "error",
     "traceback": [
      "\u001b[1;31m---------------------------------------------------------------------------\u001b[0m",
      "\u001b[1;31mModuleAttributeError\u001b[0m                      Traceback (most recent call last)",
      "\u001b[1;32m<ipython-input-120-346152d2091f>\u001b[0m in \u001b[0;36m<module>\u001b[1;34m\u001b[0m\n\u001b[0;32m      1\u001b[0m \u001b[1;32mwith\u001b[0m \u001b[0mtorch\u001b[0m\u001b[1;33m.\u001b[0m\u001b[0mno_grad\u001b[0m\u001b[1;33m(\u001b[0m\u001b[1;33m)\u001b[0m\u001b[1;33m:\u001b[0m\u001b[1;33m\u001b[0m\u001b[1;33m\u001b[0m\u001b[0m\n\u001b[1;32m----> 2\u001b[1;33m     \u001b[0mUx\u001b[0m \u001b[1;33m=\u001b[0m \u001b[0mmodel\u001b[0m\u001b[1;33m.\u001b[0m\u001b[0mproject_node_emb\u001b[0m\u001b[1;33m(\u001b[0m\u001b[0membeddings\u001b[0m\u001b[1;33m)\u001b[0m\u001b[1;33m\u001b[0m\u001b[1;33m\u001b[0m\u001b[0m\n\u001b[0m\u001b[0;32m      3\u001b[0m     \u001b[0mGx\u001b[0m \u001b[1;33m=\u001b[0m \u001b[0mmodel\u001b[0m\u001b[1;33m.\u001b[0m\u001b[0mproject_graph_emb\u001b[0m\u001b[1;33m(\u001b[0m\u001b[0membeddings\u001b[0m\u001b[1;33m.\u001b[0m\u001b[0mmean\u001b[0m\u001b[1;33m(\u001b[0m\u001b[0mdim\u001b[0m\u001b[1;33m=\u001b[0m\u001b[1;36m1\u001b[0m\u001b[1;33m)\u001b[0m\u001b[1;33m)\u001b[0m\u001b[1;33m\u001b[0m\u001b[1;33m\u001b[0m\u001b[0m\n\u001b[0;32m      4\u001b[0m \u001b[0medge_embeddings\u001b[0m \u001b[1;33m=\u001b[0m \u001b[0mF\u001b[0m\u001b[1;33m.\u001b[0m\u001b[0mrelu\u001b[0m\u001b[1;33m(\u001b[0m\u001b[0mUx\u001b[0m\u001b[1;33m[\u001b[0m\u001b[1;33m:\u001b[0m\u001b[1;33m,\u001b[0m \u001b[1;33m:\u001b[0m\u001b[1;33m,\u001b[0m \u001b[1;32mNone\u001b[0m\u001b[1;33m,\u001b[0m \u001b[1;33m:\u001b[0m\u001b[1;33m]\u001b[0m \u001b[1;33m+\u001b[0m \u001b[0mUx\u001b[0m\u001b[1;33m[\u001b[0m\u001b[1;33m:\u001b[0m\u001b[1;33m,\u001b[0m \u001b[1;32mNone\u001b[0m\u001b[1;33m,\u001b[0m \u001b[1;33m:\u001b[0m\u001b[1;33m,\u001b[0m \u001b[1;33m:\u001b[0m\u001b[1;33m]\u001b[0m \u001b[1;33m+\u001b[0m \u001b[0mGx\u001b[0m\u001b[1;33m[\u001b[0m\u001b[1;33m:\u001b[0m\u001b[1;33m,\u001b[0m \u001b[1;32mNone\u001b[0m\u001b[1;33m,\u001b[0m \u001b[1;32mNone\u001b[0m\u001b[1;33m,\u001b[0m \u001b[1;33m:\u001b[0m\u001b[1;33m]\u001b[0m\u001b[1;33m)\u001b[0m\u001b[1;33m\u001b[0m\u001b[1;33m\u001b[0m\u001b[0m\n\u001b[0;32m      5\u001b[0m \u001b[1;33m\u001b[0m\u001b[0m\n",
      "\u001b[1;32m~\\AppData\\Roaming\\Python\\Python37\\site-packages\\torch\\nn\\modules\\module.py\u001b[0m in \u001b[0;36m__getattr__\u001b[1;34m(self, name)\u001b[0m\n\u001b[0;32m    777\u001b[0m                 \u001b[1;32mreturn\u001b[0m \u001b[0mmodules\u001b[0m\u001b[1;33m[\u001b[0m\u001b[0mname\u001b[0m\u001b[1;33m]\u001b[0m\u001b[1;33m\u001b[0m\u001b[1;33m\u001b[0m\u001b[0m\n\u001b[0;32m    778\u001b[0m         raise ModuleAttributeError(\"'{}' object has no attribute '{}'\".format(\n\u001b[1;32m--> 779\u001b[1;33m             type(self).__name__, name))\n\u001b[0m\u001b[0;32m    780\u001b[0m \u001b[1;33m\u001b[0m\u001b[0m\n\u001b[0;32m    781\u001b[0m     \u001b[1;32mdef\u001b[0m \u001b[0m__setattr__\u001b[0m\u001b[1;33m(\u001b[0m\u001b[0mself\u001b[0m\u001b[1;33m,\u001b[0m \u001b[0mname\u001b[0m\u001b[1;33m:\u001b[0m \u001b[0mstr\u001b[0m\u001b[1;33m,\u001b[0m \u001b[0mvalue\u001b[0m\u001b[1;33m:\u001b[0m \u001b[0mUnion\u001b[0m\u001b[1;33m[\u001b[0m\u001b[0mTensor\u001b[0m\u001b[1;33m,\u001b[0m \u001b[1;34m'Module'\u001b[0m\u001b[1;33m]\u001b[0m\u001b[1;33m)\u001b[0m \u001b[1;33m->\u001b[0m \u001b[1;32mNone\u001b[0m\u001b[1;33m:\u001b[0m\u001b[1;33m\u001b[0m\u001b[1;33m\u001b[0m\u001b[0m\n",
      "\u001b[1;31mModuleAttributeError\u001b[0m: 'AttentionModel' object has no attribute 'project_node_emb'"
     ]
    }
   ],
   "source": [
    "# with torch.no_grad():\n",
    "#     Ux = model.project_node_emb(embeddings)\n",
    "#     Gx = model.project_graph_emb(embeddings.mean(dim=1))\n",
    "# edge_embeddings = F.relu(Ux[:, :, None, :] + Ux[:, None, :, :] + Gx[:, None, None, :])\n",
    "\n",
    "# if model.mask_graph:\n",
    "#     edge_embeddings[graph[:, :, :, None].expand_as(edge_embeddings)] = 0\n",
    "\n",
    "# # Compute logits\n",
    "# with torch.no_grad():\n",
    "#     logits = model.edge_pred(edge_embeddings)  # B x V x V x 2\n",
    "# proba = F.softmax(logits, dim=3)\n",
    "# proba_adj = proba[0, :, :, 1].cpu().numpy()\n",
    "# proba_adj.shape"
   ]
  },
  {
   "cell_type": "code",
   "execution_count": 122,
   "metadata": {
    "colab": {
     "base_uri": "https://localhost:8080/",
     "height": 373
    },
    "id": "ciFtPtBmLZAl",
    "outputId": "c6de807e-f69c-4e10-acdb-2359877006f6"
   },
   "outputs": [
    {
     "data": {
      "image/png": "[encoded data removed]",
      "text/plain": [
       "<Figure size 576x432 with 1 Axes>"
      ]
     },
     "metadata": {},
     "output_type": "display_data"
    }
   ],
   "source": [
    "# G = nx.from_numpy_array(1-test_example['graph'].numpy())\n",
    "G = nx.from_numpy_array(1-graph.cpu().numpy())\n",
    "G.remove_edges_from(nx.selfloop_edges(G))\n",
    "pos = {i: coord.numpy() for i, coord in enumerate(torch.cat((x['depot'][None, :], x['loc'][:, :2]), 0))}\n",
    "plt.figure(figsize=(8, 6))\n",
    "nx.draw_networkx_nodes(G, pos=pos, node_size=100)\n",
    "nx.draw_networkx_edges(G, pos=pos, alpha=0.2)\n",
    "plt.title('After sparsification')\n",
    "plt.axis('off')\n",
    "plt.show()"
   ]
  },
  {
   "cell_type": "code",
   "execution_count": 123,
   "metadata": {
    "colab": {
     "base_uri": "https://localhost:8080/",
     "height": 373
    },
    "id": "vKzUMD_zLZAm",
    "outputId": "20aba240-a90b-4f48-c6b5-1ee7f0cc5e74"
   },
   "outputs": [],
   "source": [
    "# G = nx.from_numpy_array(proba_adj)\n",
    "# G.remove_edges_from(nx.selfloop_edges(G))\n",
    "# pos = {i: coord.numpy() for i, coord in enumerate(torch.cat((x['depot'][None, :], x['loc'][:, :2]), 0))}\n",
    "# plt.figure(figsize=(8, 6))\n",
    "# nx.draw_networkx_nodes(G, pos=pos, node_size=100)\n",
    "# nx.draw_networkx_edges(G, pos=pos, width=[(G[u][v]['weight']*2)**2 for u,v in G.edges])\n",
    "# plt.title('Probabilistic graph')\n",
    "# plt.axis('off')\n",
    "# plt.show()"
   ]
  },
  {
   "cell_type": "markdown",
   "metadata": {
    "id": "SUdBDidmJNdU"
   },
   "source": [
    "GNN model"
   ]
  },
  {
   "cell_type": "code",
   "execution_count": 124,
   "metadata": {
    "id": "lNcnljjvVMtN"
   },
   "outputs": [],
   "source": [
    "def array_separator(arr):\n",
    "  out = []\n",
    "  out_temp = [0]\n",
    "  for i in arr[1:]:\n",
    "    if i == 0:\n",
    "      if len(out_temp) != 1:\n",
    "        out_temp.append(0)\n",
    "        out.append(np.array(out_temp))\n",
    "      out_temp = [0]\n",
    "    else:\n",
    "      out_temp.append(i)\n",
    "  return np.array(out)"
   ]
  },
  {
   "cell_type": "code",
   "execution_count": 125,
   "metadata": {
    "id": "FRr85NjSLZAm"
   },
   "outputs": [],
   "source": [
    "with torch.no_grad():\n",
    "    model.decode_type = 'greedy'\n",
    "    _, _, tour = model.forward(nodes, graph, car_num, return_pi=True)\n",
    "tour = tour.cpu().numpy()[0]\n",
    "# tour = np.append(tour, tour[0])"
   ]
  },
  {
   "cell_type": "code",
   "execution_count": 126,
   "metadata": {},
   "outputs": [],
   "source": [
    "tour = torch.cat((torch.zeros(1), torch.tensor(tour))).type(torch.int64)\n",
    "while len(tour) != 26:\n",
    "    tour = torch.cat((torch.tensor(tour), torch.zeros(1))).type(torch.int64)"
   ]
  },
  {
   "cell_type": "code",
   "execution_count": 127,
   "metadata": {
    "colab": {
     "base_uri": "https://localhost:8080/",
     "height": 373
    },
    "id": "Q5s_gO0RLZAm",
    "outputId": "b23f91de-af19-4f1b-ea07-ddade4ca2830"
   },
   "outputs": [
    {
     "data": {
      "image/png": "[encoded data removed]",
      "text/plain": [
       "<Figure size 576x432 with 1 Axes>"
      ]
     },
     "metadata": {},
     "output_type": "display_data"
    }
   ],
   "source": [
    "# G = nx.from_numpy_array(1-test_example['graph'].numpy())\n",
    "G = nx.from_numpy_array(1-graph.cpu().numpy())\n",
    "G.remove_edges_from(nx.selfloop_edges(G))\n",
    "plt.figure(figsize=(8, 6))\n",
    "nx.draw_networkx_nodes(G, pos=pos, node_size=200)\n",
    "# nx.draw_networkx_edges(G, pos=pos, alpha=0.2)\n",
    "subtours = array_separator(tour)\n",
    "colors = [\"tab:blue\", \"tab:red\", \"tab:green\", \"tab:purple\", \"tab:orange\", \"tab:olive\", \"black\"]\n",
    "for n, sub_t in enumerate(subtours):\n",
    "  nx.draw_networkx_edges(G, pos=pos, width=2, edgelist=np.stack([sub_t[:-1], sub_t[1:]], axis=1), edge_color = colors[n])\n",
    "nx.draw_networkx_labels(G, pos)\n",
    "dist_matrix_ = dist_matrix.copy()\n",
    "dist_matrix_[(range(dist_matrix_.shape[0])), (range(dist_matrix_.shape[0]))] = 0\n",
    "cost = dist_matrix_[tour[:-1], tour[1:]].sum()\n",
    "plt.title(f'GNN solver, total cost: {cost:.2f}')\n",
    "plt.axis('off')\n",
    "plt.show()\n"
   ]
  },
  {
   "cell_type": "code",
   "execution_count": 128,
   "metadata": {
    "colab": {
     "base_uri": "https://localhost:8080/"
    },
    "id": "SKe8NaZWLZAn",
    "outputId": "52315e16-5c9f-4617-dfe9-f97a7f355874"
   },
   "outputs": [
    {
     "data": {
      "text/plain": [
       "{0: tensor(1.), 1: tensor(0.9333), 2: tensor(0.9333), 3: tensor(0.8000), 4: 0}"
      ]
     },
     "execution_count": 128,
     "metadata": {},
     "output_type": "execute_result"
    }
   ],
   "source": [
    "if cvrplib:\n",
    "  temp = {i: 0 for i in range(test_df['cars'].max())}\n",
    "  car = 0\n",
    "  for i in tour[1:]:\n",
    "      if i == 0:\n",
    "          car+=1\n",
    "      else:\n",
    "          temp[car] += test_df['demand'][i]/test_df['cap'].max()\n",
    "else:\n",
    "  temp = {i: 0 for i in range(car_num)}\n",
    "  car = 0\n",
    "  for i in tour[1:]:\n",
    "      if i == 0:\n",
    "          car+=1\n",
    "      else:\n",
    "          temp[car] += test_example['demand'][i-1]\n",
    "temp"
   ]
  },
  {
   "cell_type": "markdown",
   "metadata": {
    "id": "2CtCqCcoJnyw"
   },
   "source": [
    "OR-Tools"
   ]
  },
  {
   "cell_type": "code",
   "execution_count": 129,
   "metadata": {
    "id": "OW1UaCnyMUmb"
   },
   "outputs": [],
   "source": [
    "if cvrplib:\n",
    "  from heurictics.op_tools import *\n",
    "  from generator.distance_matrix import distance_function\n",
    "  customer_count = 45+1\n",
    "\n",
    "  distance = distance_function(test_df[['latitude', 'longitude']].values, is_coord = False)\n",
    "  dist_matrix =pd.DataFrame(distance)\n",
    "  dist_matrix.iloc[range(customer_count), range(customer_count)] = 0\n",
    "\n",
    "  op_results = main(test_df, distance, cars = test_df['cars'].max(), cap = test_df['cap'].max())\n",
    "  tour_sublist = np.array(list(op_results['paths'].values()))\n",
    "  rtour = np.array([item for sublist in tour_sublist for item in sublist])\n",
    "else:\n",
    "  rtour = test_example['tour_nodes'].numpy()"
   ]
  },
  {
   "cell_type": "code",
   "execution_count": 130,
   "metadata": {
    "colab": {
     "base_uri": "https://localhost:8080/",
     "height": 373
    },
    "id": "gYpywd8ALZAn",
    "outputId": "aca1b456-b12c-4ae2-ecba-818a53dff062"
   },
   "outputs": [
    {
     "data": {
      "image/png": "[encoded data removed]",
      "text/plain": [
       "<Figure size 576x432 with 1 Axes>"
      ]
     },
     "metadata": {},
     "output_type": "display_data"
    }
   ],
   "source": [
    "plt.figure(figsize=(8, 6))\n",
    "nx.draw_networkx_nodes(G, pos=pos, node_size=200)\n",
    "# nx.draw_networkx_edges(G, pos=pos, alpha=0.2)\n",
    "subtours = array_separator(rtour)\n",
    "colors = [\"tab:blue\", \"tab:red\", \"tab:green\", \"tab:purple\", \"tab:orange\", \"tab:olive\", \"black\"]\n",
    "for n, sub_t in enumerate(subtours):\n",
    "  nx.draw_networkx_edges(G, pos=pos, width=2, edgelist=np.stack([sub_t[:-1], sub_t[1:]], axis=1), edge_color = colors[n])\n",
    "nx.draw_networkx_labels(G,pos)\n",
    "cost = dist_matrix_[rtour[:-1].astype(int), rtour[1:].astype(int)].sum()\n",
    "plt.title(f'OR-tool, total cost: {cost:.2f}')\n",
    "plt.axis('off')\n",
    "plt.show()"
   ]
  },
  {
   "cell_type": "code",
   "execution_count": 131,
   "metadata": {
    "colab": {
     "base_uri": "https://localhost:8080/"
    },
    "id": "WkQJzPDELZAn",
    "outputId": "08d3ddb2-1794-44d3-816e-b50356787ae2"
   },
   "outputs": [
    {
     "data": {
      "text/plain": [
       "{0: tensor(1.), 1: 0, 2: tensor(1.), 3: tensor(1.), 4: tensor(0.6667)}"
      ]
     },
     "execution_count": 131,
     "metadata": {},
     "output_type": "execute_result"
    }
   ],
   "source": [
    "if cvrplib:\n",
    "  temp = {i: 0 for i in range(test_df['cars'].max())}\n",
    "  car = 0\n",
    "  for i in rtour[1:].astype(int):\n",
    "      if i == 0:\n",
    "          car+=1/2\n",
    "      else:\n",
    "          temp[car] += test_df['demand'][i]/test_df['cap'].max()\n",
    "else:\n",
    "  temp = {i: 0 for i in range(car_num)}\n",
    "  car = 0\n",
    "  for i in rtour[1:].astype(int):\n",
    "      if i == 0:\n",
    "          car+=1\n",
    "      else:\n",
    "          temp[car] += test_example['demand'][i-1]\n",
    "temp"
   ]
  },
  {
   "cell_type": "markdown",
   "metadata": {
    "id": "nv7nbBjdJ0SB"
   },
   "source": [
    "Greedy solution"
   ]
  },
  {
   "cell_type": "code",
   "execution_count": 132,
   "metadata": {
    "id": "7zQAvpedLZAn"
   },
   "outputs": [],
   "source": [
    "if not cvrplib:\n",
    "  test_df_ = pd.DataFrame(torch.cat((test_example['depot'][None, : ], test_example['loc']), 0).numpy(), columns = ['latitude', 'longitude'])\n",
    "  test_df_['demand'] = torch.cat((torch.zeros(1), test_example['demand']), 0).numpy()\n",
    "  df_gr = test_df_.copy()\n",
    "  df_gr['cap'] = 1\n",
    "else:\n",
    "  df_gr = test_df.copy()"
   ]
  },
  {
   "cell_type": "code",
   "execution_count": 133,
   "metadata": {
    "id": "f74VEaUp6hYi"
   },
   "outputs": [],
   "source": [
    "from generator.distance_matrix import distance_function\n",
    "customer_count = 21\n",
    "\n",
    "distance = distance_function(df_gr[['latitude', 'longitude']].values, is_coord = False)\n",
    "dist_matrix =pd.DataFrame(distance)\n",
    "dist_matrix.iloc[range(customer_count), range(customer_count)] = np.inf"
   ]
  },
  {
   "cell_type": "code",
   "execution_count": 134,
   "metadata": {
    "id": "HDNFSW756Zif"
   },
   "outputs": [],
   "source": [
    "from heurictics.greedy import greedy_heurictics\n",
    "\n",
    "greedy_results = greedy_heurictics(df_gr, dist_matrix, dim = customer_count, cap = df_gr['cap'].max(), k_nei = 3, iters = 100)"
   ]
  },
  {
   "cell_type": "code",
   "execution_count": 135,
   "metadata": {
    "id": "iqdvrckT7XDn"
   },
   "outputs": [],
   "source": [
    "gr_tour = []\n",
    "for p in greedy_results['paths'].values():\n",
    "  for node in p: \n",
    "    gr_tour.append(node)"
   ]
  },
  {
   "cell_type": "code",
   "execution_count": 136,
   "metadata": {
    "colab": {
     "base_uri": "https://localhost:8080/",
     "height": 373
    },
    "id": "rex8PGY_7G9A",
    "outputId": "96415ced-7b74-4dba-feb3-02e103a1f614"
   },
   "outputs": [
    {
     "data": {
      "image/png": "[encoded data removed]",
      "text/plain": [
       "<Figure size 576x432 with 1 Axes>"
      ]
     },
     "metadata": {},
     "output_type": "display_data"
    }
   ],
   "source": [
    "gr_tour = np.array(gr_tour)\n",
    "plt.figure(figsize=(8, 6))\n",
    "nx.draw_networkx_nodes(G, pos=pos, node_size=200)\n",
    "# nx.draw_networkx_edges(G, pos=pos, alpha=0.2)\n",
    "subtours = array_separator(gr_tour)\n",
    "colors = [\"tab:blue\", \"tab:red\", \"tab:green\", \"tab:purple\", \"tab:orange\", \"tab:olive\", \"black\"]\n",
    "for n, sub_t in enumerate(subtours):\n",
    "  nx.draw_networkx_edges(G, pos=pos, width=2, edgelist=np.stack([sub_t[:-1], sub_t[1:]], axis=1), edge_color = colors[n])\n",
    "nx.draw_networkx_labels(G,pos)\n",
    "cost = dist_matrix_[gr_tour[:-1].astype(int), gr_tour[1:].astype(int)].sum()\n",
    "plt.title(f'Greedy Heuristic, total cost: {cost:.2f}')\n",
    "plt.axis('off')\n",
    "plt.show()"
   ]
  },
  {
   "cell_type": "markdown",
   "metadata": {
    "id": "JwvddFpIJ_LF"
   },
   "source": [
    "Exact solution from CVRPLib (if exists)"
   ]
  },
  {
   "cell_type": "code",
   "execution_count": 137,
   "metadata": {
    "colab": {
     "base_uri": "https://localhost:8080/",
     "height": 373
    },
    "id": "gHCBQixSKA7F",
    "outputId": "aef6417a-8470-48c6-897b-6dc51641cfc3"
   },
   "outputs": [
    {
     "ename": "NameError",
     "evalue": "name 'test_tour' is not defined",
     "output_type": "error",
     "traceback": [
      "\u001b[1;31m---------------------------------------------------------------------------\u001b[0m",
      "\u001b[1;31mNameError\u001b[0m                                 Traceback (most recent call last)",
      "\u001b[1;32m<ipython-input-137-8344f2604e33>\u001b[0m in \u001b[0;36m<module>\u001b[1;34m\u001b[0m\n\u001b[0;32m      5\u001b[0m \u001b[0mnx\u001b[0m\u001b[1;33m.\u001b[0m\u001b[0mdraw_networkx_nodes\u001b[0m\u001b[1;33m(\u001b[0m\u001b[0mG\u001b[0m\u001b[1;33m,\u001b[0m \u001b[0mpos\u001b[0m\u001b[1;33m=\u001b[0m\u001b[0mpos\u001b[0m\u001b[1;33m,\u001b[0m \u001b[0mnode_size\u001b[0m\u001b[1;33m=\u001b[0m\u001b[1;36m200\u001b[0m\u001b[1;33m)\u001b[0m\u001b[1;33m\u001b[0m\u001b[1;33m\u001b[0m\u001b[0m\n\u001b[0;32m      6\u001b[0m \u001b[0mnx\u001b[0m\u001b[1;33m.\u001b[0m\u001b[0mdraw_networkx_edges\u001b[0m\u001b[1;33m(\u001b[0m\u001b[0mG\u001b[0m\u001b[1;33m,\u001b[0m \u001b[0mpos\u001b[0m\u001b[1;33m=\u001b[0m\u001b[0mpos\u001b[0m\u001b[1;33m,\u001b[0m \u001b[0malpha\u001b[0m\u001b[1;33m=\u001b[0m\u001b[1;36m0.2\u001b[0m\u001b[1;33m)\u001b[0m\u001b[1;33m\u001b[0m\u001b[1;33m\u001b[0m\u001b[0m\n\u001b[1;32m----> 7\u001b[1;33m \u001b[0msubtours\u001b[0m \u001b[1;33m=\u001b[0m \u001b[0marray_separator\u001b[0m\u001b[1;33m(\u001b[0m\u001b[0mtest_tour\u001b[0m\u001b[1;33m)\u001b[0m\u001b[1;33m\u001b[0m\u001b[1;33m\u001b[0m\u001b[0m\n\u001b[0m\u001b[0;32m      8\u001b[0m \u001b[0mcolors\u001b[0m \u001b[1;33m=\u001b[0m \u001b[1;33m[\u001b[0m\u001b[1;34m\"tab:blue\"\u001b[0m\u001b[1;33m,\u001b[0m \u001b[1;34m\"tab:red\"\u001b[0m\u001b[1;33m,\u001b[0m \u001b[1;34m\"tab:green\"\u001b[0m\u001b[1;33m,\u001b[0m \u001b[1;34m\"tab:purple\"\u001b[0m\u001b[1;33m,\u001b[0m \u001b[1;34m\"tab:orange\"\u001b[0m\u001b[1;33m,\u001b[0m \u001b[1;34m\"tab:olive\"\u001b[0m\u001b[1;33m,\u001b[0m \u001b[1;34m\"black\"\u001b[0m\u001b[1;33m]\u001b[0m\u001b[1;33m\u001b[0m\u001b[1;33m\u001b[0m\u001b[0m\n\u001b[0;32m      9\u001b[0m \u001b[1;32mfor\u001b[0m \u001b[0mn\u001b[0m\u001b[1;33m,\u001b[0m \u001b[0msub_t\u001b[0m \u001b[1;32min\u001b[0m \u001b[0menumerate\u001b[0m\u001b[1;33m(\u001b[0m\u001b[0msubtours\u001b[0m\u001b[1;33m)\u001b[0m\u001b[1;33m:\u001b[0m\u001b[1;33m\u001b[0m\u001b[1;33m\u001b[0m\u001b[0m\n",
      "\u001b[1;31mNameError\u001b[0m: name 'test_tour' is not defined"
     ]
    },
    {
     "data": {
      "image/png": "[encoded data removed]",
      "text/plain": [
       "<Figure size 576x432 with 1 Axes>"
      ]
     },
     "metadata": {},
     "output_type": "display_data"
    }
   ],
   "source": [
    "# G = nx.from_numpy_array(1-test_example['graph'].numpy())\n",
    "G = nx.from_numpy_array(1-graph.cpu().numpy())\n",
    "G.remove_edges_from(nx.selfloop_edges(G))\n",
    "plt.figure(figsize=(8, 6))\n",
    "nx.draw_networkx_nodes(G, pos=pos, node_size=200)\n",
    "nx.draw_networkx_edges(G, pos=pos, alpha=0.2)\n",
    "subtours = array_separator(test_tour)\n",
    "colors = [\"tab:blue\", \"tab:red\", \"tab:green\", \"tab:purple\", \"tab:orange\", \"tab:olive\", \"black\"]\n",
    "for n, sub_t in enumerate(subtours):\n",
    "  nx.draw_networkx_edges(G, pos=pos, width=2, edgelist=np.stack([sub_t[:-1], sub_t[1:]], axis=1), edge_color = colors[n])\n",
    "nx.draw_networkx_labels(G, pos)\n",
    "dist_matrix = squareform(pdist(x[:, :2].numpy()))\n",
    "dist_matrix[(range(dist_matrix.shape[0])), (range(dist_matrix.shape[0]))] = np.inf\n",
    "dist_matrix_ = dist_matrix.copy()\n",
    "dist_matrix_[(range(dist_matrix_.shape[0])), (range(dist_matrix_.shape[0]))] = 0\n",
    "cost = dist_matrix_[test_tour[:-1], test_tour[1:]].sum()\n",
    "plt.title(f'CVRPLib, total cost: {cost:.2f}')\n",
    "plt.axis('off')\n",
    "plt.show()\n"
   ]
  },
  {
   "cell_type": "code",
   "execution_count": null,
   "metadata": {
    "colab": {
     "base_uri": "https://localhost:8080/"
    },
    "id": "cGm_zS3SPfdb",
    "outputId": "5e751045-3899-4779-8fb7-416194c1cecc"
   },
   "outputs": [],
   "source": [
    "if cvrplib:\n",
    "  temp = {i: 0 for i in range(test_df['cars'].max())}\n",
    "  car = 0\n",
    "  for i in test_tour[1:].astype(int):\n",
    "      if i == 0:\n",
    "          car+=1/2\n",
    "      else:\n",
    "          temp[car] += test_df['demand'][i]/test_df['cap'].max()\n",
    "else:\n",
    "  temp = {i: 0 for i in range(car_num)}\n",
    "  car = 0\n",
    "  for i in test_tour[1:].astype(int):\n",
    "      if i == 0:\n",
    "          car+=1/2\n",
    "      else:\n",
    "          temp[car] += test_example['demand'][i-1]\n",
    "temp"
   ]
  },
  {
   "cell_type": "code",
   "execution_count": 138,
   "metadata": {},
   "outputs": [
    {
     "ename": "NameError",
     "evalue": "name 'test_tour' is not defined",
     "output_type": "error",
     "traceback": [
      "\u001b[1;31m---------------------------------------------------------------------------\u001b[0m",
      "\u001b[1;31mNameError\u001b[0m                                 Traceback (most recent call last)",
      "\u001b[1;32m<ipython-input-138-ee1cc88e206d>\u001b[0m in \u001b[0;36m<module>\u001b[1;34m\u001b[0m\n\u001b[1;32m----> 1\u001b[1;33m \u001b[0mtest_tour\u001b[0m\u001b[1;33m\u001b[0m\u001b[1;33m\u001b[0m\u001b[0m\n\u001b[0m",
      "\u001b[1;31mNameError\u001b[0m: name 'test_tour' is not defined"
     ]
    }
   ],
   "source": [
    "test_tour"
   ]
  },
  {
   "cell_type": "code",
   "execution_count": null,
   "metadata": {},
   "outputs": [],
   "source": []
  },
  {
   "cell_type": "code",
   "execution_count": null,
   "metadata": {},
   "outputs": [],
   "source": []
  }
 ],
 "metadata": {
  "accelerator": "GPU",
  "colab": {
   "collapsed_sections": [],
   "name": "net.ipynb",
   "provenance": []
  },
  "kernelspec": {
   "display_name": "Python 3",
   "language": "python",
   "name": "python3"
  },
  "language_info": {
   "codemirror_mode": {
    "name": "ipython",
    "version": 3
   },
   "file_extension": ".py",
   "mimetype": "text/x-python",
   "name": "python",
   "nbconvert_exporter": "python",
   "pygments_lexer": "ipython3",
   "version": "3.7.3"
  }
 },
 "nbformat": 4,
 "nbformat_minor": 1
}
